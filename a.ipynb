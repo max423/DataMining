{
 "cells": [
  {
   "cell_type": "code",
   "execution_count": null,
   "metadata": {
    "collapsed": true
   },
   "outputs": [],
   "source": [
    "#KNeighborsClassifier\n",
    "#RandomForestClassifier\n",
    "#Support Vector Machines\n",
    "#LogisticRegression\n",
    "#Gaussian Naive Bayes\n",
    "#AdaBoostClassifier: RandomForestClassifier\n",
    "#AdaBoostClassifier2: RandomForestClassifier 1\n",
    "\n",
    "\n",
    "models = [\n",
    "    KNeighborsClassifier(n_neighbors=3),\n",
    "    RandomForestClassifier(n_estimators=67),\n",
    "    SVC(C=100, gamma=0.0001),\n",
    "    LogisticRegression(max_iter=1000, solver='liblinear'),\n",
    "    GaussianNB(),\n",
    "    AdaBoostClassifier(base_estimator=RandomForestClassifier(n_estimators=67),n_estimators=31),\n",
    "    AdaBoostClassifier(base_estimator=RandomForestClassifier(n_estimators=1), n_estimators=96)\n",
    "]\n",
    "\n",
    "select_k = SelectKBest(f_classif, k=40)\n",
    "selected_features = select_k.fit_transform(x_train, y_train)\n",
    "selected_features_test = select_k.transform(x_test)\n",
    "\n",
    "clf = AdaBoostClassifier(base_estimator=RandomForestClassifier(n_estimators=1), n_estimators=96).fit(selected_features, y_train)\n",
    "\n",
    "\n",
    "\n",
    "\n",
    "\n",
    "# BernulliNB    fra\n",
    "# AdaBoostClassifier indiano\n",
    "# MultinomialNB fra\n",
    "\n",
    "\n",
    "# knn ∞ ibk\n",
    "# j48 ∞ randfor\n",
    "# Gaussian ∞ Naive"
   ]
  },
  {
   "cell_type": "markdown",
   "source": [],
   "metadata": {
    "collapsed": false
   }
  },
  {
   "cell_type": "code",
   "execution_count": null,
   "outputs": [],
   "source": [
    "# AdaBoostClassifier + RandomForestClassifier\n",
    "# AdaBoostClassifier().get_params().keys()\n",
    "from sklearn.ensemble import RandomForestClassifier\n",
    "\n",
    "pipe = Pipeline([('clf', AdaBoostClassifier())])\n",
    "grid = {\n",
    "    'clf__base_estimator': [RandomForestClassifier(n_estimators=67)],\n",
    "    'clf__n_estimators': (np.arange(1, 100, 5))\n",
    "}\n",
    "grid_search = GridSearchCV(pipe, param_grid=grid, scoring=scoring, refit=\"f1_micro\", n_jobs=-1, cv=skf)\n",
    "model = grid_search.fit(X=X, y=y)\n",
    "\n",
    "print(grid_search.best_params_)\n",
    "model.best_estimator_\n",
    "model.best_score_\n",
    "pipe_fsel = Pipeline([('selectkbest', SelectKBest()), ('clf', AdaBoostClassifier())])\n",
    "\n",
    "grid_fsel = {\n",
    "    'clf__base_estimator': [RandomForestClassifier(n_estimators=67)],\n",
    "    'clf__n_estimators': [31],\n",
    "    'selectkbest__score_func': SCORE_F,\n",
    "    'selectkbest__k': TOP_K\n",
    "}\n",
    "\n",
    "grid_search = GridSearchCV(pipe_fsel, param_grid=grid_fsel, scoring=scoring, refit=\"f1_micro\", n_jobs=-1, cv=skf)\n",
    "model_fsel = grid_search.fit(X=X, y=y)\n",
    "model_fsel.best_estimator_\n",
    "model_fsel.best_score_\n",
    "#matrix\n",
    "select_k = SelectKBest(f_classif, k=40)\n",
    "selected_features = select_k.fit_transform(x_train, y_train)\n",
    "selected_features_test = select_k.transform(x_test)\n",
    "\n",
    "clf = AdaBoostClassifier(base_estimator=RandomForestClassifier(n_estimators=67), n_estimators=31).fit(selected_features,\n",
    "                                                                                                      y_train)\n",
    "predicted = clf.predict(selected_features_test)\n",
    "plot_cm(y_test, predicted)"
   ],
   "metadata": {
    "collapsed": false
   }
  }
 ],
 "metadata": {
  "kernelspec": {
   "display_name": "Python 3",
   "language": "python",
   "name": "python3"
  },
  "language_info": {
   "codemirror_mode": {
    "name": "ipython",
    "version": 2
   },
   "file_extension": ".py",
   "mimetype": "text/x-python",
   "name": "python",
   "nbconvert_exporter": "python",
   "pygments_lexer": "ipython2",
   "version": "2.7.6"
  }
 },
 "nbformat": 4,
 "nbformat_minor": 0
}
