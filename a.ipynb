{
 "cells": [
  {
   "cell_type": "code",
   "execution_count": null,
   "metadata": {
    "collapsed": true
   },
   "outputs": [],
   "source": [
    "#KNeighborsClassifier\n",
    "#RandomForestClassifier\n",
    "#Support Vector Machines\n",
    "#LogisticRegression\n",
    "#Gaussian Naive Bayes\n",
    "#\n",
    "\n",
    "# BernulliNB    fra\n",
    "# AdaBoostClassifier indiano\n",
    "# MultinomialNB fra\n",
    "\n",
    "\n",
    "# knn ∞ ibk\n",
    "# j48 ∞ randfor\n",
    "# Gaussian ∞ Naive"
   ]
  },
  {
   "cell_type": "markdown",
   "source": [],
   "metadata": {
    "collapsed": false
   }
  },
  {
   "cell_type": "code",
   "execution_count": null,
   "outputs": [],
   "source": [
    "# AdaBoostClassifier\n",
    "from sklearn.ensemble import AdaBoostClassifier\n",
    "\n",
    "# Evaluation of Support Vector Machines\n",
    "# SVC().get_params().keys()\n",
    "pipe = Pipeline([('clf',SVC())])\n",
    "grid = {\n",
    "    'clf__C':[10, 1e2, 1e3],\n",
    "    'clf__gamma':[1e-3, 1e-4, 5e-3]\n",
    "}\n",
    "grid_search = GridSearchCV(pipe, param_grid=grid, scoring=scoring, refit=\"f1_micro\", n_jobs=-1, cv=skf)\n",
    "model = grid_search.fit(X=X, y=y)\n",
    "\n",
    "print(grid_search.best_params_)\n",
    "\n",
    "model.best_estimator_\n",
    "model.best_score_\n",
    "\n",
    "\n",
    "\n",
    "pipe_fsel = Pipeline([('selectkbest', SelectKBest()), ('clf', SVC())])\n",
    "\n",
    "grid_fsel = {\n",
    "    'clf__C':[],\n",
    "    'clf__gamma':[]\n",
    "    'selectkbest__score_func': SCORE_F,\n",
    "    'selectkbest__k': TOP_K\n",
    "}\n",
    "\n",
    "grid_search = GridSearchCV(pipe_fsel, param_grid=grid_fsel, scoring=scoring, refit=\"f1_micro\", n_jobs=-1, cv=skf)\n",
    "model_fsel = grid_search.fit(X=X, y=y)\n",
    "model_fsel.best_estimator_\n",
    "model_fsel.best_score_\n",
    "\n",
    "# matrix\n",
    "clf = SVC().fit(x_train, y_train)\n",
    "predicted = clf.predict(x_test)\n",
    "\n",
    "plot_cm(y_test, predicted)\n",
    "\n",
    "dict_keys(['C', 'class_weight', 'dual', 'fit_intercept', 'intercept_scaling', 'l1_ratio', 'max_iter', 'multi_class', 'n_jobs', 'penalty', 'random_state', 'solver', 'tol', 'verbose', 'warm_start'])\n"
   ],
   "metadata": {
    "collapsed": false
   }
  }
 ],
 "metadata": {
  "kernelspec": {
   "display_name": "Python 3",
   "language": "python",
   "name": "python3"
  },
  "language_info": {
   "codemirror_mode": {
    "name": "ipython",
    "version": 2
   },
   "file_extension": ".py",
   "mimetype": "text/x-python",
   "name": "python",
   "nbconvert_exporter": "python",
   "pygments_lexer": "ipython2",
   "version": "2.7.6"
  }
 },
 "nbformat": 4,
 "nbformat_minor": 0
}
