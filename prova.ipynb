{
 "cells": [
  {
   "cell_type": "code",
   "execution_count": 71,
   "outputs": [],
   "source": [
    "import matplotlib.pyplot as plt\n",
    "import os\n",
    "import pandas as pd\n",
    "import librosa\n",
    "import numpy as np\n",
    "from tqdm import tqdm\n",
    "from sklearn.model_selection import train_test_split\n",
    "import seaborn as sns\n",
    "from sklearn.model_selection import GridSearchCV\n",
    "from sklearn.pipeline import Pipeline\n",
    "from sklearn.neighbors import KNeighborsClassifier\n",
    "from sklearn.model_selection import StratifiedKFold\n",
    "from sklearn.feature_selection import SelectKBest\n",
    "from sklearn.feature_selection import chi2, f_classif\n",
    "from sklearn import preprocessing\n",
    "from sklearn.neighbors import KNeighborsClassifier\n",
    "from sklearn.metrics import confusion_matrix, classification_report\n",
    "from sklearn.metrics  import f1_score, precision_score, recall_score\n",
    "from sklearn.svm import SVC\n",
    "from sklearn.metrics import confusion_matrix, classification_report,accuracy_score,average_precision_score,f1_score\n",
    "from sklearn.model_selection import GridSearchCV\n",
    "from sklearn.linear_model import LogisticRegression\n",
    "from sklearn.ensemble import AdaBoostClassifier\n",
    "from sklearn.ensemble import AdaBoostClassifier as AdaBoostClassifier2\n",
    "from scipy.io import wavfile as wav\n",
    "import matplotlib.pyplot as plt"
   ],
   "metadata": {
    "collapsed": false
   }
  },
  {
   "cell_type": "code",
   "execution_count": 3,
   "outputs": [],
   "source": [
    "# data visualizzation"
   ],
   "metadata": {
    "collapsed": false
   }
  },
  {
   "cell_type": "code",
   "execution_count": null,
   "outputs": [],
   "source": [
    "audio_file_path = '/Users/massimo/Desktop/Data Mining/Progetto/archive/fold1/7383-3-1-0.wav'"
   ],
   "metadata": {
    "collapsed": false
   }
  },
  {
   "cell_type": "code",
   "execution_count": null,
   "outputs": [],
   "source": [
    "librosa_audio_data, librosa_sample_rate = librosa.load(audio_file_path)"
   ],
   "metadata": {
    "collapsed": false
   }
  },
  {
   "cell_type": "code",
   "execution_count": null,
   "outputs": [],
   "source": [
    "plt.figure(figsize=(12,4))\n",
    "plt.plot(librosa_audio_data)"
   ],
   "metadata": {
    "collapsed": false
   }
  },
  {
   "cell_type": "code",
   "execution_count": null,
   "outputs": [],
   "source": [
    "wave_sample_rate, wave_audio = wav.read(audio_file_path)"
   ],
   "metadata": {
    "collapsed": false
   }
  },
  {
   "cell_type": "code",
   "execution_count": null,
   "outputs": [],
   "source": [
    "wave_audio"
   ],
   "metadata": {
    "collapsed": false
   }
  },
  {
   "cell_type": "code",
   "execution_count": null,
   "outputs": [],
   "source": [
    "plt.figure(figsize=(12,4))\n",
    "plt.plot(wave_audio)"
   ],
   "metadata": {
    "collapsed": false
   }
  },
  {
   "cell_type": "code",
   "execution_count": null,
   "outputs": [],
   "source": [
    "mfcc_feat = librosa.feature.mfcc(y=librosa_audio_data, sr=librosa_sample_rate, n_mfcc = 40)\n",
    "\n",
    "print(mfcc_feat.shape)"
   ],
   "metadata": {
    "collapsed": false
   }
  },
  {
   "cell_type": "code",
   "execution_count": null,
   "outputs": [],
   "source": [
    "mfcc_feat"
   ],
   "metadata": {
    "collapsed": false
   }
  },
  {
   "cell_type": "code",
   "execution_count": null,
   "outputs": [],
   "source": [],
   "metadata": {
    "collapsed": false
   }
  },
  {
   "cell_type": "code",
   "execution_count": null,
   "outputs": [],
   "source": [
    "# dataset"
   ],
   "metadata": {
    "collapsed": false
   }
  },
  {
   "cell_type": "code",
   "execution_count": 6,
   "outputs": [],
   "source": [
    "audio_dataset_path = '/Users/massimo/Desktop/Data Mining/Progetto/archive'\n",
    "metadata_path = pd.read_csv('/Users/massimo/Desktop/Data Mining/Progetto/archive/UrbanSound8K.csv')"
   ],
   "metadata": {
    "collapsed": false
   }
  },
  {
   "cell_type": "code",
   "execution_count": 7,
   "outputs": [
    {
     "data": {
      "text/plain": "      slice_file_name    fsID      start        end  salience  fold  classID  \\\n0    100032-3-0-0.wav  100032   0.000000   0.317551         1     5        3   \n1  100263-2-0-117.wav  100263  58.500000  62.500000         1     5        2   \n2  100263-2-0-121.wav  100263  60.500000  64.500000         1     5        2   \n3  100263-2-0-126.wav  100263  63.000000  67.000000         1     5        2   \n4  100263-2-0-137.wav  100263  68.500000  72.500000         1     5        2   \n5  100263-2-0-143.wav  100263  71.500000  75.500000         1     5        2   \n6  100263-2-0-161.wav  100263  80.500000  84.500000         1     5        2   \n7    100263-2-0-3.wav  100263   1.500000   5.500000         1     5        2   \n8   100263-2-0-36.wav  100263  18.000000  22.000000         1     5        2   \n9    100648-1-0-0.wav  100648   4.823402   5.471927         2    10        1   \n\n              class  \n0          dog_bark  \n1  children_playing  \n2  children_playing  \n3  children_playing  \n4  children_playing  \n5  children_playing  \n6  children_playing  \n7  children_playing  \n8  children_playing  \n9          car_horn  ",
      "text/html": "<div>\n<style scoped>\n    .dataframe tbody tr th:only-of-type {\n        vertical-align: middle;\n    }\n\n    .dataframe tbody tr th {\n        vertical-align: top;\n    }\n\n    .dataframe thead th {\n        text-align: right;\n    }\n</style>\n<table border=\"1\" class=\"dataframe\">\n  <thead>\n    <tr style=\"text-align: right;\">\n      <th></th>\n      <th>slice_file_name</th>\n      <th>fsID</th>\n      <th>start</th>\n      <th>end</th>\n      <th>salience</th>\n      <th>fold</th>\n      <th>classID</th>\n      <th>class</th>\n    </tr>\n  </thead>\n  <tbody>\n    <tr>\n      <th>0</th>\n      <td>100032-3-0-0.wav</td>\n      <td>100032</td>\n      <td>0.000000</td>\n      <td>0.317551</td>\n      <td>1</td>\n      <td>5</td>\n      <td>3</td>\n      <td>dog_bark</td>\n    </tr>\n    <tr>\n      <th>1</th>\n      <td>100263-2-0-117.wav</td>\n      <td>100263</td>\n      <td>58.500000</td>\n      <td>62.500000</td>\n      <td>1</td>\n      <td>5</td>\n      <td>2</td>\n      <td>children_playing</td>\n    </tr>\n    <tr>\n      <th>2</th>\n      <td>100263-2-0-121.wav</td>\n      <td>100263</td>\n      <td>60.500000</td>\n      <td>64.500000</td>\n      <td>1</td>\n      <td>5</td>\n      <td>2</td>\n      <td>children_playing</td>\n    </tr>\n    <tr>\n      <th>3</th>\n      <td>100263-2-0-126.wav</td>\n      <td>100263</td>\n      <td>63.000000</td>\n      <td>67.000000</td>\n      <td>1</td>\n      <td>5</td>\n      <td>2</td>\n      <td>children_playing</td>\n    </tr>\n    <tr>\n      <th>4</th>\n      <td>100263-2-0-137.wav</td>\n      <td>100263</td>\n      <td>68.500000</td>\n      <td>72.500000</td>\n      <td>1</td>\n      <td>5</td>\n      <td>2</td>\n      <td>children_playing</td>\n    </tr>\n    <tr>\n      <th>5</th>\n      <td>100263-2-0-143.wav</td>\n      <td>100263</td>\n      <td>71.500000</td>\n      <td>75.500000</td>\n      <td>1</td>\n      <td>5</td>\n      <td>2</td>\n      <td>children_playing</td>\n    </tr>\n    <tr>\n      <th>6</th>\n      <td>100263-2-0-161.wav</td>\n      <td>100263</td>\n      <td>80.500000</td>\n      <td>84.500000</td>\n      <td>1</td>\n      <td>5</td>\n      <td>2</td>\n      <td>children_playing</td>\n    </tr>\n    <tr>\n      <th>7</th>\n      <td>100263-2-0-3.wav</td>\n      <td>100263</td>\n      <td>1.500000</td>\n      <td>5.500000</td>\n      <td>1</td>\n      <td>5</td>\n      <td>2</td>\n      <td>children_playing</td>\n    </tr>\n    <tr>\n      <th>8</th>\n      <td>100263-2-0-36.wav</td>\n      <td>100263</td>\n      <td>18.000000</td>\n      <td>22.000000</td>\n      <td>1</td>\n      <td>5</td>\n      <td>2</td>\n      <td>children_playing</td>\n    </tr>\n    <tr>\n      <th>9</th>\n      <td>100648-1-0-0.wav</td>\n      <td>100648</td>\n      <td>4.823402</td>\n      <td>5.471927</td>\n      <td>2</td>\n      <td>10</td>\n      <td>1</td>\n      <td>car_horn</td>\n    </tr>\n  </tbody>\n</table>\n</div>"
     },
     "execution_count": 7,
     "metadata": {},
     "output_type": "execute_result"
    }
   ],
   "source": [
    "metadata_path.head(10)"
   ],
   "metadata": {
    "collapsed": false
   }
  },
  {
   "cell_type": "code",
   "execution_count": 17,
   "outputs": [],
   "source": [
    "#function for feature extraction\n",
    "def audio_feature_extraction(file):\n",
    "    audio, sample_rate = librosa.load(file_name, res_type='kaiser_fast')\n",
    "    mfcc_feat = librosa.feature.mfcc(y=audio, sr= sample_rate, n_mfcc=40)\n",
    "    mfcc_scaled_features = np.mean(mfcc_feat.T, axis =0)\n",
    "    return mfcc_scaled_features"
   ],
   "metadata": {
    "collapsed": false
   }
  },
  {
   "cell_type": "code",
   "execution_count": 18,
   "outputs": [
    {
     "name": "stderr",
     "output_type": "stream",
     "text": [
      "3554it [07:05,  9.45it/s]/Users/massimo/opt/anaconda3/lib/python3.9/site-packages/librosa/util/decorators.py:88: UserWarning: n_fft=2048 is too small for input signal of length=1323\n",
      "  return f(*args, **kwargs)\n",
      "8325it [15:06, 15.91it/s]/Users/massimo/opt/anaconda3/lib/python3.9/site-packages/librosa/util/decorators.py:88: UserWarning: n_fft=2048 is too small for input signal of length=1103\n",
      "  return f(*args, **kwargs)\n",
      "/Users/massimo/opt/anaconda3/lib/python3.9/site-packages/librosa/util/decorators.py:88: UserWarning: n_fft=2048 is too small for input signal of length=1523\n",
      "  return f(*args, **kwargs)\n",
      "8732it [15:43,  9.26it/s]\n"
     ]
    }
   ],
   "source": [
    "# iterate through each file and extract features\n",
    "extracted_features = []\n",
    "for index_num, row in tqdm(metadata_path.iterrows()):\n",
    "    #print(row[1][-1])\n",
    "    #break\n",
    "    #../input/urbansound8k/fold1/101415-3-0-2.wav\n",
    "    #file_name = os.path.join(os.path.abspath(audio_dataset_path),'fold'+str(row[1][5])+'/',str(row[1][0]))\n",
    "    #print(file_name)\n",
    "    file_name = os.path.join(os.path.abspath(audio_dataset_path),'fold'+str(row[\"fold\"])+'/',str(row['slice_file_name']))\n",
    "    final_class_labels = row['class']#row[1][-1]\n",
    "    data = audio_feature_extraction(file_name)\n",
    "    extracted_features.append([data, final_class_labels])"
   ],
   "metadata": {
    "collapsed": false
   }
  },
  {
   "cell_type": "code",
   "execution_count": 19,
   "outputs": [],
   "source": [
    "### converting extracted_features to Pandas dataframe\n",
    "extracted_features_df=pd.DataFrame(extracted_features,columns=['feature','class'])\n",
    "extracted_features_df\n",
    "# save dataset\n",
    "extracted_features_df.to_csv('/Users/massimo/Desktop/Data Mining/Progetto/archive/extracted_features_df.csv')"
   ],
   "metadata": {
    "collapsed": false
   }
  },
  {
   "cell_type": "code",
   "execution_count": 20,
   "outputs": [
    {
     "data": {
      "text/plain": "                                                feature             class\n0     [-217.35526, 70.22338, -130.38527, -53.282898,...          dog_bark\n1     [-424.09818, 109.34077, -52.919525, 60.86475, ...  children_playing\n2     [-458.79114, 121.38419, -46.520657, 52.00812, ...  children_playing\n3     [-413.89984, 101.66373, -35.42945, 53.036358, ...  children_playing\n4     [-446.60352, 113.68541, -52.402206, 60.302044,...  children_playing\n...                                                 ...               ...\n8727  [-398.5845, 135.53496, -50.725018, 35.855907, ...          car_horn\n8728  [-346.4742, 86.34815, -45.16858, 51.709873, -3...          car_horn\n8729  [-303.88824, 111.35945, -45.941563, 35.877018,...          car_horn\n8730  [-344.11008, 125.45021, -54.903442, 34.891148,...          car_horn\n8731  [-315.6028, 94.854805, -37.22234, 46.778263, -...          car_horn\n\n[8732 rows x 2 columns]",
      "text/html": "<div>\n<style scoped>\n    .dataframe tbody tr th:only-of-type {\n        vertical-align: middle;\n    }\n\n    .dataframe tbody tr th {\n        vertical-align: top;\n    }\n\n    .dataframe thead th {\n        text-align: right;\n    }\n</style>\n<table border=\"1\" class=\"dataframe\">\n  <thead>\n    <tr style=\"text-align: right;\">\n      <th></th>\n      <th>feature</th>\n      <th>class</th>\n    </tr>\n  </thead>\n  <tbody>\n    <tr>\n      <th>0</th>\n      <td>[-217.35526, 70.22338, -130.38527, -53.282898,...</td>\n      <td>dog_bark</td>\n    </tr>\n    <tr>\n      <th>1</th>\n      <td>[-424.09818, 109.34077, -52.919525, 60.86475, ...</td>\n      <td>children_playing</td>\n    </tr>\n    <tr>\n      <th>2</th>\n      <td>[-458.79114, 121.38419, -46.520657, 52.00812, ...</td>\n      <td>children_playing</td>\n    </tr>\n    <tr>\n      <th>3</th>\n      <td>[-413.89984, 101.66373, -35.42945, 53.036358, ...</td>\n      <td>children_playing</td>\n    </tr>\n    <tr>\n      <th>4</th>\n      <td>[-446.60352, 113.68541, -52.402206, 60.302044,...</td>\n      <td>children_playing</td>\n    </tr>\n    <tr>\n      <th>...</th>\n      <td>...</td>\n      <td>...</td>\n    </tr>\n    <tr>\n      <th>8727</th>\n      <td>[-398.5845, 135.53496, -50.725018, 35.855907, ...</td>\n      <td>car_horn</td>\n    </tr>\n    <tr>\n      <th>8728</th>\n      <td>[-346.4742, 86.34815, -45.16858, 51.709873, -3...</td>\n      <td>car_horn</td>\n    </tr>\n    <tr>\n      <th>8729</th>\n      <td>[-303.88824, 111.35945, -45.941563, 35.877018,...</td>\n      <td>car_horn</td>\n    </tr>\n    <tr>\n      <th>8730</th>\n      <td>[-344.11008, 125.45021, -54.903442, 34.891148,...</td>\n      <td>car_horn</td>\n    </tr>\n    <tr>\n      <th>8731</th>\n      <td>[-315.6028, 94.854805, -37.22234, 46.778263, -...</td>\n      <td>car_horn</td>\n    </tr>\n  </tbody>\n</table>\n<p>8732 rows × 2 columns</p>\n</div>"
     },
     "execution_count": 20,
     "metadata": {},
     "output_type": "execute_result"
    }
   ],
   "source": [
    "# read dataset\n",
    "extracted_features_df = pd.read_csv('/Users/massimo/Desktop/Data Mining/Progetto/archive/extracted_features_df.csv')\n",
    "extracted_features_df=pd.DataFrame(extracted_features,columns=['feature','class'])\n",
    "extracted_features_df"
   ],
   "metadata": {
    "collapsed": false
   }
  },
  {
   "cell_type": "code",
   "execution_count": 21,
   "outputs": [],
   "source": [
    "### Split the dataset into independent and dependent dataset\n",
    "X=np.array(extracted_features_df['feature'].tolist())\n",
    "y=np.array(extracted_features_df['class'].tolist())"
   ],
   "metadata": {
    "collapsed": false
   }
  },
  {
   "cell_type": "code",
   "execution_count": 22,
   "outputs": [
    {
     "data": {
      "text/plain": "(8732, 40)"
     },
     "execution_count": 22,
     "metadata": {},
     "output_type": "execute_result"
    }
   ],
   "source": [
    "X.shape"
   ],
   "metadata": {
    "collapsed": false
   }
  },
  {
   "cell_type": "code",
   "execution_count": 23,
   "outputs": [
    {
     "data": {
      "text/plain": "array(['dog_bark', 'children_playing', 'children_playing', ...,\n       'car_horn', 'car_horn', 'car_horn'], dtype='<U16')"
     },
     "execution_count": 23,
     "metadata": {},
     "output_type": "execute_result"
    }
   ],
   "source": [
    "y"
   ],
   "metadata": {
    "collapsed": false
   }
  },
  {
   "cell_type": "code",
   "execution_count": 24,
   "outputs": [
    {
     "data": {
      "text/plain": "<Figure size 1440x432 with 1 Axes>",
      "image/png": "[encoded data removed]"
     },
     "metadata": {},
     "output_type": "display_data"
    }
   ],
   "source": [
    "fig = plt.figure(figsize=(20,6))\n",
    "plt.title(\"No.of data samples for each class in the enitre dataset\", fontsize= 20)\n",
    "sns.countplot(x ='class', data = extracted_features_df )\n",
    "plt.show()"
   ],
   "metadata": {
    "collapsed": false
   }
  },
  {
   "cell_type": "code",
   "execution_count": 25,
   "outputs": [
    {
     "data": {
      "text/plain": "((6985, 40), (1747, 40))"
     },
     "execution_count": 25,
     "metadata": {},
     "output_type": "execute_result"
    }
   ],
   "source": [
    "x_train, x_test, y_train, y_test = train_test_split(X,y,random_state = 6, test_size=0.2)\n",
    "x_train.shape, x_test.shape"
   ],
   "metadata": {
    "collapsed": false
   }
  },
  {
   "cell_type": "code",
   "execution_count": 26,
   "outputs": [],
   "source": [
    "# test dataset originale, non bilanciato\n",
    "# x_train & x_test\n",
    "\n",
    "#Define cross-valudation method\n",
    "n_folds = 10\n",
    "skf = StratifiedKFold(n_folds, shuffle=True)\n",
    "\n",
    "#Defnie parameters for features selection\n",
    "#SelectKBest prameters\n",
    "#Number of feature selected\n",
    "TOP_K = [10, 20, 30, 40]\n",
    "#Score function for evaluation\n",
    "SCORE_F = [f_classif]\n",
    "\n",
    "#Define scoring metrics\n",
    "scoring = ['accuracy', 'precision_micro', 'recall_micro', 'f1_micro']\n",
    "\n",
    "# category\n",
    "category_id_df = ['air_conditioner', 'car_horn', 'children_playing', 'dog_bark', 'drilling', 'enginge_idling', 'gun_shot', 'jackhammer', 'siren','street_music']\n",
    "\n",
    "#x_train, x_test, y_train, y_test\n",
    "def plot_cm(y_test, predicted):\n",
    "    conf_mat = confusion_matrix(y_test, predicted)\n",
    "    fig, ax = plt.subplots(figsize=(10, 10))\n",
    "    sns.heatmap(conf_mat, annot=True, fmt='d', xticklabels=category_id_df, yticklabels=category_id_df)\n",
    "    plt.ylabel('Actual')\n",
    "    plt.xlabel('Predicted')\n",
    "    plt.show()"
   ],
   "metadata": {
    "collapsed": false
   }
  },
  {
   "cell_type": "code",
   "execution_count": 300,
   "outputs": [],
   "source": [
    "#from sklearn import preprocessing\n",
    "#min_max_scaler = preprocessing.MinMaxScaler()\n",
    "#x_norm = min_max_scaler.fit_transform(X)"
   ],
   "metadata": {
    "collapsed": false
   }
  },
  {
   "cell_type": "code",
   "execution_count": 301,
   "outputs": [
    {
     "name": "stdout",
     "output_type": "stream",
     "text": [
      "{'clf__n_neighbors': 3}\n"
     ]
    }
   ],
   "source": [
    "# Evaluation of Linear Support Vector Classification\n",
    "# KNeighborsClassifier().get_params().keys()\n",
    "pipe = Pipeline([('clf',KNeighborsClassifier())])\n",
    "grid = {\n",
    "    'clf__n_neighbors': (np.arange(3,50,1))\n",
    "}\n",
    "grid_search = GridSearchCV(pipe, param_grid=grid, scoring=scoring, refit=\"f1_micro\", n_jobs=-1, cv=skf)\n",
    "model = grid_search.fit(X=X, y=y)\n",
    "\n",
    "print(grid_search.best_params_)"
   ],
   "metadata": {
    "collapsed": false
   }
  },
  {
   "cell_type": "code",
   "execution_count": 302,
   "outputs": [
    {
     "data": {
      "text/plain": "Pipeline(steps=[('clf', KNeighborsClassifier(n_neighbors=3))])"
     },
     "execution_count": 302,
     "metadata": {},
     "output_type": "execute_result"
    }
   ],
   "source": [
    "model.best_estimator_"
   ],
   "metadata": {
    "collapsed": false
   }
  },
  {
   "cell_type": "code",
   "execution_count": 303,
   "outputs": [
    {
     "data": {
      "text/plain": "0.8791798710881492"
     },
     "execution_count": 303,
     "metadata": {},
     "output_type": "execute_result"
    }
   ],
   "source": [
    "model.best_score_"
   ],
   "metadata": {
    "collapsed": false
   }
  },
  {
   "cell_type": "code",
   "execution_count": 304,
   "outputs": [],
   "source": [
    "#Defnie parameters for features selection\n",
    "pipe_fsel = Pipeline([('selectkbest', SelectKBest()),('clf',KNeighborsClassifier())])\n",
    "\n",
    "grid_fsel = {\n",
    "    'clf__n_neighbors': [3],\n",
    "    'selectkbest__score_func': SCORE_F,\n",
    "    'selectkbest__k': TOP_K\n",
    "}\n",
    "\n",
    "grid_search = GridSearchCV(pipe_fsel, param_grid=grid_fsel, scoring=scoring, refit=\"f1_micro\", n_jobs=-1, cv=skf)\n",
    "model_fsel = grid_search.fit(X=X, y=y)"
   ],
   "metadata": {
    "collapsed": false
   }
  },
  {
   "cell_type": "code",
   "execution_count": 305,
   "outputs": [
    {
     "data": {
      "text/plain": "Pipeline(steps=[('selectkbest', SelectKBest(k=40)),\n                ('clf', KNeighborsClassifier(n_neighbors=3))])"
     },
     "execution_count": 305,
     "metadata": {},
     "output_type": "execute_result"
    }
   ],
   "source": [
    "model_fsel.best_estimator_"
   ],
   "metadata": {
    "collapsed": false
   }
  },
  {
   "cell_type": "code",
   "execution_count": 306,
   "outputs": [
    {
     "data": {
      "text/plain": "0.878265849892923"
     },
     "execution_count": 306,
     "metadata": {},
     "output_type": "execute_result"
    }
   ],
   "source": [
    "model_fsel.best_score_"
   ],
   "metadata": {
    "collapsed": false
   }
  },
  {
   "cell_type": "code",
   "execution_count": 307,
   "outputs": [
    {
     "data": {
      "text/plain": "<Figure size 720x720 with 2 Axes>",
      "image/png": "[encoded data removed]"
     },
     "metadata": {},
     "output_type": "display_data"
    }
   ],
   "source": [
    "# matrix\n",
    "select_k = SelectKBest(f_classif, k=40)\n",
    "selected_features = select_k.fit_transform(x_train, y_train)\n",
    "selected_features_test = select_k.transform(x_test)\n",
    "\n",
    "clf = KNeighborsClassifier(n_neighbors=3).fit(selected_features, y_train)\n",
    "predicted = clf.predict(selected_features_test)\n",
    "\n",
    "plot_cm(y_test, predicted)"
   ],
   "metadata": {
    "collapsed": false
   }
  },
  {
   "cell_type": "code",
   "execution_count": null,
   "outputs": [],
   "source": [
    "#################################################"
   ],
   "metadata": {
    "collapsed": false
   }
  },
  {
   "cell_type": "code",
   "execution_count": 308,
   "outputs": [
    {
     "name": "stdout",
     "output_type": "stream",
     "text": [
      "{'clf__n_estimators': 67}\n"
     ]
    }
   ],
   "source": [
    "# Evaluation of RandomForestClassifier\n",
    "# RandomForestClassifier().get_params().keys()\n",
    "pipe = Pipeline([('clf',RandomForestClassifier())])\n",
    "grid = {\n",
    "   #'clf__max_depth': (np.arange(3,50,1)),\n",
    "    'clf__n_estimators': (np.arange(3,70,1))\n",
    "}\n",
    "grid_search = GridSearchCV(pipe, param_grid=grid, scoring=scoring, refit=\"f1_micro\", n_jobs=-1, cv=skf)\n",
    "model = grid_search.fit(X=X, y=y)\n",
    "\n",
    "print(grid_search.best_params_)"
   ],
   "metadata": {
    "collapsed": false
   }
  },
  {
   "cell_type": "code",
   "execution_count": 309,
   "outputs": [
    {
     "data": {
      "text/plain": "Pipeline(steps=[('clf', RandomForestClassifier(n_estimators=67))])"
     },
     "execution_count": 309,
     "metadata": {},
     "output_type": "execute_result"
    }
   ],
   "source": [
    "model.best_estimator_"
   ],
   "metadata": {
    "collapsed": false
   }
  },
  {
   "cell_type": "code",
   "execution_count": 310,
   "outputs": [
    {
     "data": {
      "text/plain": "0.8978484984311969"
     },
     "execution_count": 310,
     "metadata": {},
     "output_type": "execute_result"
    }
   ],
   "source": [
    "model.best_score_"
   ],
   "metadata": {
    "collapsed": false
   }
  },
  {
   "cell_type": "code",
   "execution_count": 311,
   "outputs": [],
   "source": [
    "pipe_fsel = Pipeline([('selectkbest', SelectKBest()), ('clf', RandomForestClassifier())])\n",
    "\n",
    "grid_fsel = {\n",
    "    'clf__n_estimators': [67] ,\n",
    "    'selectkbest__score_func': SCORE_F,\n",
    "    'selectkbest__k': TOP_K\n",
    "}\n",
    "\n",
    "grid_search = GridSearchCV(pipe_fsel, param_grid=grid_fsel, scoring=scoring, refit=\"f1_micro\", n_jobs=-1, cv=skf)\n",
    "model_fsel = grid_search.fit(X=X, y=y)"
   ],
   "metadata": {
    "collapsed": false
   }
  },
  {
   "cell_type": "code",
   "execution_count": 312,
   "outputs": [
    {
     "data": {
      "text/plain": "Pipeline(steps=[('selectkbest', SelectKBest(k=40)),\n                ('clf', RandomForestClassifier(n_estimators=67))])"
     },
     "execution_count": 312,
     "metadata": {},
     "output_type": "execute_result"
    }
   ],
   "source": [
    "model_fsel.best_estimator_"
   ],
   "metadata": {
    "collapsed": false
   }
  },
  {
   "cell_type": "code",
   "execution_count": 313,
   "outputs": [
    {
     "data": {
      "text/plain": "0.8914347537752194"
     },
     "execution_count": 313,
     "metadata": {},
     "output_type": "execute_result"
    }
   ],
   "source": [
    "model_fsel.best_score_"
   ],
   "metadata": {
    "collapsed": false
   }
  },
  {
   "cell_type": "code",
   "execution_count": 314,
   "outputs": [
    {
     "data": {
      "text/plain": "<Figure size 720x720 with 2 Axes>",
      "image/png": "[encoded data removed]"
     },
     "metadata": {},
     "output_type": "display_data"
    }
   ],
   "source": [
    "# matrix\n",
    "select_k = SelectKBest(f_classif, k=40)\n",
    "selected_features = select_k.fit_transform(x_train, y_train)\n",
    "selected_features_test = select_k.transform(x_test)\n",
    "\n",
    "clf = RandomForestClassifier(n_estimators=67).fit(selected_features, y_train)\n",
    "predicted = clf.predict(selected_features_test)\n",
    "\n",
    "plot_cm(y_test, predicted)"
   ],
   "metadata": {
    "collapsed": false
   }
  },
  {
   "cell_type": "code",
   "execution_count": null,
   "outputs": [],
   "source": [
    "#####################################"
   ],
   "metadata": {
    "collapsed": false
   }
  },
  {
   "cell_type": "code",
   "execution_count": 51,
   "outputs": [
    {
     "ename": "KeyboardInterrupt",
     "evalue": "",
     "output_type": "error",
     "traceback": [
      "\u001B[0;31m---------------------------------------------------------------------------\u001B[0m",
      "\u001B[0;31mKeyboardInterrupt\u001B[0m                         Traceback (most recent call last)",
      "Input \u001B[0;32mIn [51]\u001B[0m, in \u001B[0;36m<cell line: 9>\u001B[0;34m()\u001B[0m\n\u001B[1;32m      4\u001B[0m grid \u001B[38;5;241m=\u001B[39m {\n\u001B[1;32m      5\u001B[0m     \u001B[38;5;124m'\u001B[39m\u001B[38;5;124mclf__C\u001B[39m\u001B[38;5;124m'\u001B[39m:[\u001B[38;5;241m10\u001B[39m, \u001B[38;5;241m1e2\u001B[39m, \u001B[38;5;241m1e3\u001B[39m],\n\u001B[1;32m      6\u001B[0m     \u001B[38;5;124m'\u001B[39m\u001B[38;5;124mclf__gamma\u001B[39m\u001B[38;5;124m'\u001B[39m:[\u001B[38;5;241m1e-3\u001B[39m, \u001B[38;5;241m1e-4\u001B[39m, \u001B[38;5;241m5e-3\u001B[39m]\n\u001B[1;32m      7\u001B[0m }\n\u001B[1;32m      8\u001B[0m grid_search \u001B[38;5;241m=\u001B[39m GridSearchCV(pipe, param_grid\u001B[38;5;241m=\u001B[39mgrid, scoring\u001B[38;5;241m=\u001B[39mscoring, refit\u001B[38;5;241m=\u001B[39m\u001B[38;5;124m\"\u001B[39m\u001B[38;5;124mf1_micro\u001B[39m\u001B[38;5;124m\"\u001B[39m, n_jobs\u001B[38;5;241m=\u001B[39m\u001B[38;5;241m-\u001B[39m\u001B[38;5;241m1\u001B[39m, cv\u001B[38;5;241m=\u001B[39mskf)\n\u001B[0;32m----> 9\u001B[0m model \u001B[38;5;241m=\u001B[39m \u001B[43mgrid_search\u001B[49m\u001B[38;5;241;43m.\u001B[39;49m\u001B[43mfit\u001B[49m\u001B[43m(\u001B[49m\u001B[43mX\u001B[49m\u001B[38;5;241;43m=\u001B[39;49m\u001B[43mX\u001B[49m\u001B[43m,\u001B[49m\u001B[43m \u001B[49m\u001B[43my\u001B[49m\u001B[38;5;241;43m=\u001B[39;49m\u001B[43my\u001B[49m\u001B[43m)\u001B[49m\n\u001B[1;32m     11\u001B[0m \u001B[38;5;28mprint\u001B[39m(grid_search\u001B[38;5;241m.\u001B[39mbest_params_)\n",
      "File \u001B[0;32m~/opt/anaconda3/lib/python3.9/site-packages/sklearn/model_selection/_search.py:891\u001B[0m, in \u001B[0;36mBaseSearchCV.fit\u001B[0;34m(self, X, y, groups, **fit_params)\u001B[0m\n\u001B[1;32m    885\u001B[0m     results \u001B[38;5;241m=\u001B[39m \u001B[38;5;28mself\u001B[39m\u001B[38;5;241m.\u001B[39m_format_results(\n\u001B[1;32m    886\u001B[0m         all_candidate_params, n_splits, all_out, all_more_results\n\u001B[1;32m    887\u001B[0m     )\n\u001B[1;32m    889\u001B[0m     \u001B[38;5;28;01mreturn\u001B[39;00m results\n\u001B[0;32m--> 891\u001B[0m \u001B[38;5;28;43mself\u001B[39;49m\u001B[38;5;241;43m.\u001B[39;49m\u001B[43m_run_search\u001B[49m\u001B[43m(\u001B[49m\u001B[43mevaluate_candidates\u001B[49m\u001B[43m)\u001B[49m\n\u001B[1;32m    893\u001B[0m \u001B[38;5;66;03m# multimetric is determined here because in the case of a callable\u001B[39;00m\n\u001B[1;32m    894\u001B[0m \u001B[38;5;66;03m# self.scoring the return type is only known after calling\u001B[39;00m\n\u001B[1;32m    895\u001B[0m first_test_score \u001B[38;5;241m=\u001B[39m all_out[\u001B[38;5;241m0\u001B[39m][\u001B[38;5;124m\"\u001B[39m\u001B[38;5;124mtest_scores\u001B[39m\u001B[38;5;124m\"\u001B[39m]\n",
      "File \u001B[0;32m~/opt/anaconda3/lib/python3.9/site-packages/sklearn/model_selection/_search.py:1392\u001B[0m, in \u001B[0;36mGridSearchCV._run_search\u001B[0;34m(self, evaluate_candidates)\u001B[0m\n\u001B[1;32m   1390\u001B[0m \u001B[38;5;28;01mdef\u001B[39;00m \u001B[38;5;21m_run_search\u001B[39m(\u001B[38;5;28mself\u001B[39m, evaluate_candidates):\n\u001B[1;32m   1391\u001B[0m     \u001B[38;5;124;03m\"\"\"Search all candidates in param_grid\"\"\"\u001B[39;00m\n\u001B[0;32m-> 1392\u001B[0m     \u001B[43mevaluate_candidates\u001B[49m\u001B[43m(\u001B[49m\u001B[43mParameterGrid\u001B[49m\u001B[43m(\u001B[49m\u001B[38;5;28;43mself\u001B[39;49m\u001B[38;5;241;43m.\u001B[39;49m\u001B[43mparam_grid\u001B[49m\u001B[43m)\u001B[49m\u001B[43m)\u001B[49m\n",
      "File \u001B[0;32m~/opt/anaconda3/lib/python3.9/site-packages/sklearn/model_selection/_search.py:838\u001B[0m, in \u001B[0;36mBaseSearchCV.fit.<locals>.evaluate_candidates\u001B[0;34m(candidate_params, cv, more_results)\u001B[0m\n\u001B[1;32m    830\u001B[0m \u001B[38;5;28;01mif\u001B[39;00m \u001B[38;5;28mself\u001B[39m\u001B[38;5;241m.\u001B[39mverbose \u001B[38;5;241m>\u001B[39m \u001B[38;5;241m0\u001B[39m:\n\u001B[1;32m    831\u001B[0m     \u001B[38;5;28mprint\u001B[39m(\n\u001B[1;32m    832\u001B[0m         \u001B[38;5;124m\"\u001B[39m\u001B[38;5;124mFitting \u001B[39m\u001B[38;5;132;01m{0}\u001B[39;00m\u001B[38;5;124m folds for each of \u001B[39m\u001B[38;5;132;01m{1}\u001B[39;00m\u001B[38;5;124m candidates,\u001B[39m\u001B[38;5;124m\"\u001B[39m\n\u001B[1;32m    833\u001B[0m         \u001B[38;5;124m\"\u001B[39m\u001B[38;5;124m totalling \u001B[39m\u001B[38;5;132;01m{2}\u001B[39;00m\u001B[38;5;124m fits\u001B[39m\u001B[38;5;124m\"\u001B[39m\u001B[38;5;241m.\u001B[39mformat(\n\u001B[1;32m    834\u001B[0m             n_splits, n_candidates, n_candidates \u001B[38;5;241m*\u001B[39m n_splits\n\u001B[1;32m    835\u001B[0m         )\n\u001B[1;32m    836\u001B[0m     )\n\u001B[0;32m--> 838\u001B[0m out \u001B[38;5;241m=\u001B[39m \u001B[43mparallel\u001B[49m\u001B[43m(\u001B[49m\n\u001B[1;32m    839\u001B[0m \u001B[43m    \u001B[49m\u001B[43mdelayed\u001B[49m\u001B[43m(\u001B[49m\u001B[43m_fit_and_score\u001B[49m\u001B[43m)\u001B[49m\u001B[43m(\u001B[49m\n\u001B[1;32m    840\u001B[0m \u001B[43m        \u001B[49m\u001B[43mclone\u001B[49m\u001B[43m(\u001B[49m\u001B[43mbase_estimator\u001B[49m\u001B[43m)\u001B[49m\u001B[43m,\u001B[49m\n\u001B[1;32m    841\u001B[0m \u001B[43m        \u001B[49m\u001B[43mX\u001B[49m\u001B[43m,\u001B[49m\n\u001B[1;32m    842\u001B[0m \u001B[43m        \u001B[49m\u001B[43my\u001B[49m\u001B[43m,\u001B[49m\n\u001B[1;32m    843\u001B[0m \u001B[43m        \u001B[49m\u001B[43mtrain\u001B[49m\u001B[38;5;241;43m=\u001B[39;49m\u001B[43mtrain\u001B[49m\u001B[43m,\u001B[49m\n\u001B[1;32m    844\u001B[0m \u001B[43m        \u001B[49m\u001B[43mtest\u001B[49m\u001B[38;5;241;43m=\u001B[39;49m\u001B[43mtest\u001B[49m\u001B[43m,\u001B[49m\n\u001B[1;32m    845\u001B[0m \u001B[43m        \u001B[49m\u001B[43mparameters\u001B[49m\u001B[38;5;241;43m=\u001B[39;49m\u001B[43mparameters\u001B[49m\u001B[43m,\u001B[49m\n\u001B[1;32m    846\u001B[0m \u001B[43m        \u001B[49m\u001B[43msplit_progress\u001B[49m\u001B[38;5;241;43m=\u001B[39;49m\u001B[43m(\u001B[49m\u001B[43msplit_idx\u001B[49m\u001B[43m,\u001B[49m\u001B[43m \u001B[49m\u001B[43mn_splits\u001B[49m\u001B[43m)\u001B[49m\u001B[43m,\u001B[49m\n\u001B[1;32m    847\u001B[0m \u001B[43m        \u001B[49m\u001B[43mcandidate_progress\u001B[49m\u001B[38;5;241;43m=\u001B[39;49m\u001B[43m(\u001B[49m\u001B[43mcand_idx\u001B[49m\u001B[43m,\u001B[49m\u001B[43m \u001B[49m\u001B[43mn_candidates\u001B[49m\u001B[43m)\u001B[49m\u001B[43m,\u001B[49m\n\u001B[1;32m    848\u001B[0m \u001B[43m        \u001B[49m\u001B[38;5;241;43m*\u001B[39;49m\u001B[38;5;241;43m*\u001B[39;49m\u001B[43mfit_and_score_kwargs\u001B[49m\u001B[43m,\u001B[49m\n\u001B[1;32m    849\u001B[0m \u001B[43m    \u001B[49m\u001B[43m)\u001B[49m\n\u001B[1;32m    850\u001B[0m \u001B[43m    \u001B[49m\u001B[38;5;28;43;01mfor\u001B[39;49;00m\u001B[43m \u001B[49m\u001B[43m(\u001B[49m\u001B[43mcand_idx\u001B[49m\u001B[43m,\u001B[49m\u001B[43m \u001B[49m\u001B[43mparameters\u001B[49m\u001B[43m)\u001B[49m\u001B[43m,\u001B[49m\u001B[43m \u001B[49m\u001B[43m(\u001B[49m\u001B[43msplit_idx\u001B[49m\u001B[43m,\u001B[49m\u001B[43m \u001B[49m\u001B[43m(\u001B[49m\u001B[43mtrain\u001B[49m\u001B[43m,\u001B[49m\u001B[43m \u001B[49m\u001B[43mtest\u001B[49m\u001B[43m)\u001B[49m\u001B[43m)\u001B[49m\u001B[43m \u001B[49m\u001B[38;5;129;43;01min\u001B[39;49;00m\u001B[43m \u001B[49m\u001B[43mproduct\u001B[49m\u001B[43m(\u001B[49m\n\u001B[1;32m    851\u001B[0m \u001B[43m        \u001B[49m\u001B[38;5;28;43menumerate\u001B[39;49m\u001B[43m(\u001B[49m\u001B[43mcandidate_params\u001B[49m\u001B[43m)\u001B[49m\u001B[43m,\u001B[49m\u001B[43m \u001B[49m\u001B[38;5;28;43menumerate\u001B[39;49m\u001B[43m(\u001B[49m\u001B[43mcv\u001B[49m\u001B[38;5;241;43m.\u001B[39;49m\u001B[43msplit\u001B[49m\u001B[43m(\u001B[49m\u001B[43mX\u001B[49m\u001B[43m,\u001B[49m\u001B[43m \u001B[49m\u001B[43my\u001B[49m\u001B[43m,\u001B[49m\u001B[43m \u001B[49m\u001B[43mgroups\u001B[49m\u001B[43m)\u001B[49m\u001B[43m)\u001B[49m\n\u001B[1;32m    852\u001B[0m \u001B[43m    \u001B[49m\u001B[43m)\u001B[49m\n\u001B[1;32m    853\u001B[0m \u001B[43m\u001B[49m\u001B[43m)\u001B[49m\n\u001B[1;32m    855\u001B[0m \u001B[38;5;28;01mif\u001B[39;00m \u001B[38;5;28mlen\u001B[39m(out) \u001B[38;5;241m<\u001B[39m \u001B[38;5;241m1\u001B[39m:\n\u001B[1;32m    856\u001B[0m     \u001B[38;5;28;01mraise\u001B[39;00m \u001B[38;5;167;01mValueError\u001B[39;00m(\n\u001B[1;32m    857\u001B[0m         \u001B[38;5;124m\"\u001B[39m\u001B[38;5;124mNo fits were performed. \u001B[39m\u001B[38;5;124m\"\u001B[39m\n\u001B[1;32m    858\u001B[0m         \u001B[38;5;124m\"\u001B[39m\u001B[38;5;124mWas the CV iterator empty? \u001B[39m\u001B[38;5;124m\"\u001B[39m\n\u001B[1;32m    859\u001B[0m         \u001B[38;5;124m\"\u001B[39m\u001B[38;5;124mWere there no candidates?\u001B[39m\u001B[38;5;124m\"\u001B[39m\n\u001B[1;32m    860\u001B[0m     )\n",
      "File \u001B[0;32m~/opt/anaconda3/lib/python3.9/site-packages/joblib/parallel.py:1056\u001B[0m, in \u001B[0;36mParallel.__call__\u001B[0;34m(self, iterable)\u001B[0m\n\u001B[1;32m   1053\u001B[0m     \u001B[38;5;28mself\u001B[39m\u001B[38;5;241m.\u001B[39m_iterating \u001B[38;5;241m=\u001B[39m \u001B[38;5;28;01mFalse\u001B[39;00m\n\u001B[1;32m   1055\u001B[0m \u001B[38;5;28;01mwith\u001B[39;00m \u001B[38;5;28mself\u001B[39m\u001B[38;5;241m.\u001B[39m_backend\u001B[38;5;241m.\u001B[39mretrieval_context():\n\u001B[0;32m-> 1056\u001B[0m     \u001B[38;5;28;43mself\u001B[39;49m\u001B[38;5;241;43m.\u001B[39;49m\u001B[43mretrieve\u001B[49m\u001B[43m(\u001B[49m\u001B[43m)\u001B[49m\n\u001B[1;32m   1057\u001B[0m \u001B[38;5;66;03m# Make sure that we get a last message telling us we are done\u001B[39;00m\n\u001B[1;32m   1058\u001B[0m elapsed_time \u001B[38;5;241m=\u001B[39m time\u001B[38;5;241m.\u001B[39mtime() \u001B[38;5;241m-\u001B[39m \u001B[38;5;28mself\u001B[39m\u001B[38;5;241m.\u001B[39m_start_time\n",
      "File \u001B[0;32m~/opt/anaconda3/lib/python3.9/site-packages/joblib/parallel.py:935\u001B[0m, in \u001B[0;36mParallel.retrieve\u001B[0;34m(self)\u001B[0m\n\u001B[1;32m    933\u001B[0m \u001B[38;5;28;01mtry\u001B[39;00m:\n\u001B[1;32m    934\u001B[0m     \u001B[38;5;28;01mif\u001B[39;00m \u001B[38;5;28mgetattr\u001B[39m(\u001B[38;5;28mself\u001B[39m\u001B[38;5;241m.\u001B[39m_backend, \u001B[38;5;124m'\u001B[39m\u001B[38;5;124msupports_timeout\u001B[39m\u001B[38;5;124m'\u001B[39m, \u001B[38;5;28;01mFalse\u001B[39;00m):\n\u001B[0;32m--> 935\u001B[0m         \u001B[38;5;28mself\u001B[39m\u001B[38;5;241m.\u001B[39m_output\u001B[38;5;241m.\u001B[39mextend(\u001B[43mjob\u001B[49m\u001B[38;5;241;43m.\u001B[39;49m\u001B[43mget\u001B[49m\u001B[43m(\u001B[49m\u001B[43mtimeout\u001B[49m\u001B[38;5;241;43m=\u001B[39;49m\u001B[38;5;28;43mself\u001B[39;49m\u001B[38;5;241;43m.\u001B[39;49m\u001B[43mtimeout\u001B[49m\u001B[43m)\u001B[49m)\n\u001B[1;32m    936\u001B[0m     \u001B[38;5;28;01melse\u001B[39;00m:\n\u001B[1;32m    937\u001B[0m         \u001B[38;5;28mself\u001B[39m\u001B[38;5;241m.\u001B[39m_output\u001B[38;5;241m.\u001B[39mextend(job\u001B[38;5;241m.\u001B[39mget())\n",
      "File \u001B[0;32m~/opt/anaconda3/lib/python3.9/site-packages/joblib/_parallel_backends.py:542\u001B[0m, in \u001B[0;36mLokyBackend.wrap_future_result\u001B[0;34m(future, timeout)\u001B[0m\n\u001B[1;32m    539\u001B[0m \u001B[38;5;124;03m\"\"\"Wrapper for Future.result to implement the same behaviour as\u001B[39;00m\n\u001B[1;32m    540\u001B[0m \u001B[38;5;124;03mAsyncResults.get from multiprocessing.\"\"\"\u001B[39;00m\n\u001B[1;32m    541\u001B[0m \u001B[38;5;28;01mtry\u001B[39;00m:\n\u001B[0;32m--> 542\u001B[0m     \u001B[38;5;28;01mreturn\u001B[39;00m \u001B[43mfuture\u001B[49m\u001B[38;5;241;43m.\u001B[39;49m\u001B[43mresult\u001B[49m\u001B[43m(\u001B[49m\u001B[43mtimeout\u001B[49m\u001B[38;5;241;43m=\u001B[39;49m\u001B[43mtimeout\u001B[49m\u001B[43m)\u001B[49m\n\u001B[1;32m    543\u001B[0m \u001B[38;5;28;01mexcept\u001B[39;00m CfTimeoutError \u001B[38;5;28;01mas\u001B[39;00m e:\n\u001B[1;32m    544\u001B[0m     \u001B[38;5;28;01mraise\u001B[39;00m \u001B[38;5;167;01mTimeoutError\u001B[39;00m \u001B[38;5;28;01mfrom\u001B[39;00m \u001B[38;5;21;01me\u001B[39;00m\n",
      "File \u001B[0;32m~/opt/anaconda3/lib/python3.9/concurrent/futures/_base.py:441\u001B[0m, in \u001B[0;36mFuture.result\u001B[0;34m(self, timeout)\u001B[0m\n\u001B[1;32m    438\u001B[0m \u001B[38;5;28;01melif\u001B[39;00m \u001B[38;5;28mself\u001B[39m\u001B[38;5;241m.\u001B[39m_state \u001B[38;5;241m==\u001B[39m FINISHED:\n\u001B[1;32m    439\u001B[0m     \u001B[38;5;28;01mreturn\u001B[39;00m \u001B[38;5;28mself\u001B[39m\u001B[38;5;241m.\u001B[39m__get_result()\n\u001B[0;32m--> 441\u001B[0m \u001B[38;5;28;43mself\u001B[39;49m\u001B[38;5;241;43m.\u001B[39;49m\u001B[43m_condition\u001B[49m\u001B[38;5;241;43m.\u001B[39;49m\u001B[43mwait\u001B[49m\u001B[43m(\u001B[49m\u001B[43mtimeout\u001B[49m\u001B[43m)\u001B[49m\n\u001B[1;32m    443\u001B[0m \u001B[38;5;28;01mif\u001B[39;00m \u001B[38;5;28mself\u001B[39m\u001B[38;5;241m.\u001B[39m_state \u001B[38;5;129;01min\u001B[39;00m [CANCELLED, CANCELLED_AND_NOTIFIED]:\n\u001B[1;32m    444\u001B[0m     \u001B[38;5;28;01mraise\u001B[39;00m CancelledError()\n",
      "File \u001B[0;32m~/opt/anaconda3/lib/python3.9/threading.py:312\u001B[0m, in \u001B[0;36mCondition.wait\u001B[0;34m(self, timeout)\u001B[0m\n\u001B[1;32m    310\u001B[0m \u001B[38;5;28;01mtry\u001B[39;00m:    \u001B[38;5;66;03m# restore state no matter what (e.g., KeyboardInterrupt)\u001B[39;00m\n\u001B[1;32m    311\u001B[0m     \u001B[38;5;28;01mif\u001B[39;00m timeout \u001B[38;5;129;01mis\u001B[39;00m \u001B[38;5;28;01mNone\u001B[39;00m:\n\u001B[0;32m--> 312\u001B[0m         \u001B[43mwaiter\u001B[49m\u001B[38;5;241;43m.\u001B[39;49m\u001B[43macquire\u001B[49m\u001B[43m(\u001B[49m\u001B[43m)\u001B[49m\n\u001B[1;32m    313\u001B[0m         gotit \u001B[38;5;241m=\u001B[39m \u001B[38;5;28;01mTrue\u001B[39;00m\n\u001B[1;32m    314\u001B[0m     \u001B[38;5;28;01melse\u001B[39;00m:\n",
      "\u001B[0;31mKeyboardInterrupt\u001B[0m: "
     ]
    }
   ],
   "source": [
    "# Evaluation of Support Vector Machines\n",
    "# SVC().get_params().keys()\n",
    "pipe = Pipeline([('clf',SVC())])\n",
    "grid = {\n",
    "    'clf__C':[10, 1e2, 1e3],\n",
    "    'clf__gamma':[1e-3, 1e-4, 5e-3]\n",
    "}\n",
    "grid_search = GridSearchCV(pipe, param_grid=grid, scoring=scoring, refit=\"f1_micro\", n_jobs=-1, cv=skf)\n",
    "model = grid_search.fit(X=X, y=y)\n",
    "\n",
    "print(grid_search.best_params_)"
   ],
   "metadata": {
    "collapsed": false
   }
  },
  {
   "cell_type": "code",
   "execution_count": 319,
   "outputs": [
    {
     "data": {
      "text/plain": "Pipeline(steps=[('clf', SVC(C=100.0, gamma=0.0001))])"
     },
     "execution_count": 319,
     "metadata": {},
     "output_type": "execute_result"
    }
   ],
   "source": [
    "model.best_estimator_"
   ],
   "metadata": {
    "collapsed": false
   }
  },
  {
   "cell_type": "code",
   "execution_count": 320,
   "outputs": [
    {
     "data": {
      "text/plain": "0.923843318890383"
     },
     "execution_count": 320,
     "metadata": {},
     "output_type": "execute_result"
    }
   ],
   "source": [
    "model.best_score_"
   ],
   "metadata": {
    "collapsed": false
   }
  },
  {
   "cell_type": "code",
   "execution_count": 323,
   "outputs": [],
   "source": [
    "pipe_fsel = Pipeline([('selectkbest', SelectKBest()), ('clf', SVC())])\n",
    "\n",
    "grid_fsel = {\n",
    "    'clf__C':[100],\n",
    "    'clf__gamma':[0.0001],\n",
    "    'selectkbest__score_func': SCORE_F,\n",
    "    'selectkbest__k': TOP_K\n",
    "}\n",
    "\n",
    "grid_search = GridSearchCV(pipe_fsel, param_grid=grid_fsel, scoring=scoring, refit=\"f1_micro\", n_jobs=-1, cv=skf)\n",
    "model_fsel = grid_search.fit(X=X, y=y)"
   ],
   "metadata": {
    "collapsed": false
   }
  },
  {
   "cell_type": "code",
   "execution_count": 324,
   "outputs": [
    {
     "data": {
      "text/plain": "Pipeline(steps=[('selectkbest', SelectKBest(k=40)),\n                ('clf', SVC(C=100, gamma=0.0001))])"
     },
     "execution_count": 324,
     "metadata": {},
     "output_type": "execute_result"
    }
   ],
   "source": [
    "model_fsel.best_estimator_"
   ],
   "metadata": {
    "collapsed": false
   }
  },
  {
   "cell_type": "code",
   "execution_count": 325,
   "outputs": [
    {
     "data": {
      "text/plain": "0.9247582575143971"
     },
     "execution_count": 325,
     "metadata": {},
     "output_type": "execute_result"
    }
   ],
   "source": [
    "model_fsel.best_score_"
   ],
   "metadata": {
    "collapsed": false
   }
  },
  {
   "cell_type": "code",
   "execution_count": 326,
   "outputs": [
    {
     "data": {
      "text/plain": "<Figure size 720x720 with 2 Axes>",
      "image/png": "[encoded data removed]"
     },
     "metadata": {},
     "output_type": "display_data"
    }
   ],
   "source": [
    "# matrix\n",
    "select_k = SelectKBest(f_classif, k=40)\n",
    "selected_features = select_k.fit_transform(x_train, y_train)\n",
    "selected_features_test = select_k.transform(x_test)\n",
    "\n",
    "clf = SVC(C=100, gamma=0.0001).fit(selected_features, y_train)\n",
    "predicted = clf.predict(selected_features_test)\n",
    "\n",
    "plot_cm(y_test, predicted)"
   ],
   "metadata": {
    "collapsed": false
   }
  },
  {
   "cell_type": "code",
   "execution_count": null,
   "outputs": [],
   "source": [
    "#######################################"
   ],
   "metadata": {
    "collapsed": false
   }
  },
  {
   "cell_type": "code",
   "execution_count": 327,
   "outputs": [
    {
     "data": {
      "text/plain": "dict_keys(['C', 'class_weight', 'dual', 'fit_intercept', 'intercept_scaling', 'l1_ratio', 'max_iter', 'multi_class', 'n_jobs', 'penalty', 'random_state', 'solver', 'tol', 'verbose', 'warm_start'])"
     },
     "execution_count": 327,
     "metadata": {},
     "output_type": "execute_result"
    }
   ],
   "source": [],
   "metadata": {
    "collapsed": false
   }
  },
  {
   "cell_type": "code",
   "execution_count": 335,
   "outputs": [
    {
     "name": "stdout",
     "output_type": "stream",
     "text": [
      "{'clf__max_iter': 1000, 'clf__multi_class': 'ovr', 'clf__solver': 'lbfgs'}\n"
     ]
    }
   ],
   "source": [
    "# Evaluation of LogisticRegression\n",
    "#LogisticRegression().get_params().keys()\n",
    "pipe = Pipeline([('clf',LogisticRegression())])\n",
    "\n",
    "grid = {\n",
    "    #'clf__multi_class': ['ovr'],\n",
    "    'clf__solver': ['lbfgs', 'liblinear'],\n",
    "    'clf__max_iter': [1000]\n",
    "}\n",
    "\n",
    "grid_search = GridSearchCV(pipe, param_grid=grid, scoring=scoring, refit=\"f1_micro\", n_jobs=-1, cv=skf)\n",
    "model = grid_search.fit(X=X, y=y)\n",
    "\n",
    "print(grid_search.best_params_)"
   ],
   "metadata": {
    "collapsed": false
   }
  },
  {
   "cell_type": "code",
   "execution_count": 336,
   "outputs": [
    {
     "data": {
      "text/plain": "Pipeline(steps=[('clf', LogisticRegression(max_iter=1000, multi_class='ovr'))])"
     },
     "execution_count": 336,
     "metadata": {},
     "output_type": "execute_result"
    }
   ],
   "source": [
    "model.best_estimator_"
   ],
   "metadata": {
    "collapsed": false
   }
  },
  {
   "cell_type": "code",
   "execution_count": 337,
   "outputs": [
    {
     "data": {
      "text/plain": "0.5924204654771547"
     },
     "execution_count": 337,
     "metadata": {},
     "output_type": "execute_result"
    }
   ],
   "source": [
    "model.best_score_"
   ],
   "metadata": {
    "collapsed": false
   }
  },
  {
   "cell_type": "code",
   "execution_count": 331,
   "outputs": [],
   "source": [
    "pipe_fsel = Pipeline([('selectkbest', SelectKBest()), ('clf', LogisticRegression())])\n",
    "\n",
    "grid_fsel = {\n",
    "    #'clf__multi_class': ['ovr'],\n",
    "    'clf__solver': [ 'liblinear'],\n",
    "    'clf__max_iter': [1000],\n",
    "    'selectkbest__score_func': SCORE_F,\n",
    "    'selectkbest__k': TOP_K\n",
    "}\n",
    "\n",
    "grid_search = GridSearchCV(pipe_fsel, param_grid=grid_fsel, scoring=scoring, refit=\"f1_micro\", n_jobs=-1, cv=skf)\n",
    "model_fsel = grid_search.fit(X=X, y=y)"
   ],
   "metadata": {
    "collapsed": false
   }
  },
  {
   "cell_type": "code",
   "execution_count": 332,
   "outputs": [
    {
     "data": {
      "text/plain": "Pipeline(steps=[('selectkbest', SelectKBest(k=40)),\n                ('clf', LogisticRegression(max_iter=1000, solver='liblinear'))])"
     },
     "execution_count": 332,
     "metadata": {},
     "output_type": "execute_result"
    }
   ],
   "source": [
    "model_fsel.best_estimator_"
   ],
   "metadata": {
    "collapsed": false
   }
  },
  {
   "cell_type": "code",
   "execution_count": 333,
   "outputs": [
    {
     "data": {
      "text/plain": "0.5903590029908179"
     },
     "execution_count": 333,
     "metadata": {},
     "output_type": "execute_result"
    }
   ],
   "source": [
    "model_fsel.best_score_"
   ],
   "metadata": {
    "collapsed": false
   }
  },
  {
   "cell_type": "code",
   "execution_count": 334,
   "outputs": [
    {
     "data": {
      "text/plain": "<Figure size 720x720 with 2 Axes>",
      "image/png": "[encoded data removed]"
     },
     "metadata": {},
     "output_type": "display_data"
    }
   ],
   "source": [
    "# matrix\n",
    "select_k = SelectKBest(f_classif, k=40)\n",
    "selected_features = select_k.fit_transform(x_train, y_train)\n",
    "selected_features_test = select_k.transform(x_test)\n",
    "\n",
    "clf = LogisticRegression(max_iter=1000, solver='liblinear').fit(selected_features, y_train)\n",
    "predicted = clf.predict(selected_features_test)\n",
    "\n",
    "plot_cm(y_test, predicted)"
   ],
   "metadata": {
    "collapsed": false
   }
  },
  {
   "cell_type": "code",
   "execution_count": null,
   "outputs": [],
   "source": [
    "#############################################################"
   ],
   "metadata": {
    "collapsed": false
   }
  },
  {
   "cell_type": "code",
   "execution_count": 53,
   "outputs": [
    {
     "data": {
      "text/plain": "dict_keys(['priors', 'var_smoothing'])"
     },
     "execution_count": 53,
     "metadata": {},
     "output_type": "execute_result"
    }
   ],
   "source": [
    "from sklearn.naive_bayes import GaussianNB\n",
    "GaussianNB().get_params().keys()"
   ],
   "metadata": {
    "collapsed": false
   }
  },
  {
   "cell_type": "code",
   "execution_count": 342,
   "outputs": [
    {
     "name": "stdout",
     "output_type": "stream",
     "text": [
      "{}\n"
     ]
    }
   ],
   "source": [
    "#Gaussian Naive Bayes\n",
    "#GaussianNB().get_params().keys()\n",
    "pipe = Pipeline([('clf',GaussianNB())])\n",
    "grid = {\n",
    "}\n",
    "\n",
    "grid_search = GridSearchCV(pipe, param_grid=grid, scoring=scoring, refit=\"f1_micro\", n_jobs=-1, cv=skf)\n",
    "model = grid_search.fit(X=X, y=y)\n",
    "\n",
    "print(grid_search.best_params_)"
   ],
   "metadata": {
    "collapsed": false
   }
  },
  {
   "cell_type": "code",
   "execution_count": 343,
   "outputs": [
    {
     "data": {
      "text/plain": "Pipeline(steps=[('clf', GaussianNB())])"
     },
     "execution_count": 343,
     "metadata": {},
     "output_type": "execute_result"
    }
   ],
   "source": [
    "model.best_estimator_"
   ],
   "metadata": {
    "collapsed": false
   }
  },
  {
   "cell_type": "code",
   "execution_count": 344,
   "outputs": [
    {
     "data": {
      "text/plain": "0.4775565463786465"
     },
     "execution_count": 344,
     "metadata": {},
     "output_type": "execute_result"
    }
   ],
   "source": [
    "model.best_score_"
   ],
   "metadata": {
    "collapsed": false
   }
  },
  {
   "cell_type": "code",
   "execution_count": 345,
   "outputs": [],
   "source": [
    "pipe_fsel = Pipeline([('selectkbest', SelectKBest()), ('clf', GaussianNB())])\n",
    "\n",
    "grid_fsel = {\n",
    "    'selectkbest__score_func': SCORE_F,\n",
    "    'selectkbest__k': TOP_K\n",
    "}\n",
    "grid_search = GridSearchCV(pipe_fsel, param_grid=grid_fsel, scoring=scoring, refit=\"f1_micro\", n_jobs=-1, cv=skf)\n",
    "model_fsel = grid_search.fit(X=X, y=y)"
   ],
   "metadata": {
    "collapsed": false
   }
  },
  {
   "cell_type": "code",
   "execution_count": 346,
   "outputs": [
    {
     "data": {
      "text/plain": "Pipeline(steps=[('selectkbest', SelectKBest(k=20)), ('clf', GaussianNB())])"
     },
     "execution_count": 346,
     "metadata": {},
     "output_type": "execute_result"
    }
   ],
   "source": [
    "model_fsel.best_estimator_"
   ],
   "metadata": {
    "collapsed": false
   }
  },
  {
   "cell_type": "code",
   "execution_count": 347,
   "outputs": [
    {
     "data": {
      "text/plain": "0.4910675201375619"
     },
     "execution_count": 347,
     "metadata": {},
     "output_type": "execute_result"
    }
   ],
   "source": [
    "model_fsel.best_score_"
   ],
   "metadata": {
    "collapsed": false
   }
  },
  {
   "cell_type": "code",
   "execution_count": 348,
   "outputs": [
    {
     "data": {
      "text/plain": "<Figure size 720x720 with 2 Axes>",
      "image/png": "[encoded data removed]"
     },
     "metadata": {},
     "output_type": "display_data"
    }
   ],
   "source": [
    "#matrix\n",
    "select_k = SelectKBest(f_classif, k=20)\n",
    "selected_features = select_k.fit_transform(x_train, y_train)\n",
    "selected_features_test = select_k.transform(x_test)\n",
    "\n",
    "clf = GaussianNB().fit(selected_features, y_train)\n",
    "predicted = clf.predict(selected_features_test)\n",
    "\n",
    "plot_cm(y_test, predicted)"
   ],
   "metadata": {
    "collapsed": false
   }
  },
  {
   "cell_type": "code",
   "execution_count": null,
   "outputs": [],
   "source": [
    "########################################"
   ],
   "metadata": {
    "collapsed": false
   }
  },
  {
   "cell_type": "code",
   "execution_count": 40,
   "outputs": [
    {
     "name": "stdout",
     "output_type": "stream",
     "text": [
      "{'clf__base_estimator': RandomForestClassifier(n_estimators=67), 'clf__n_estimators': 31}\n"
     ]
    }
   ],
   "source": [
    "# AdaBoostClassifier + RandomForestClassifier\n",
    "# AdaBoostClassifier().get_params().keys()\n",
    "from sklearn.ensemble import RandomForestClassifier\n",
    "pipe = Pipeline([('clf',AdaBoostClassifier())])\n",
    "grid = {\n",
    "    'clf__base_estimator': [RandomForestClassifier(n_estimators=67)],\n",
    "    'clf__n_estimators':(np.arange(1,100,5))\n",
    "}\n",
    "grid_search = GridSearchCV(pipe, param_grid=grid, scoring=scoring, refit=\"f1_micro\", n_jobs=-1, cv=skf)\n",
    "model = grid_search.fit(X=X, y=y)\n",
    "\n",
    "print(grid_search.best_params_)"
   ],
   "metadata": {
    "collapsed": false
   }
  },
  {
   "cell_type": "code",
   "execution_count": 41,
   "outputs": [
    {
     "data": {
      "text/plain": "Pipeline(steps=[('clf',\n                 AdaBoostClassifier(base_estimator=RandomForestClassifier(n_estimators=67),\n                                    n_estimators=31))])"
     },
     "execution_count": 41,
     "metadata": {},
     "output_type": "execute_result"
    }
   ],
   "source": [
    "model.best_estimator_"
   ],
   "metadata": {
    "collapsed": false
   }
  },
  {
   "cell_type": "code",
   "execution_count": 42,
   "outputs": [
    {
     "data": {
      "text/plain": "0.8987631749327001"
     },
     "execution_count": 42,
     "metadata": {},
     "output_type": "execute_result"
    }
   ],
   "source": [
    "model.best_score_"
   ],
   "metadata": {
    "collapsed": false
   }
  },
  {
   "cell_type": "code",
   "execution_count": 44,
   "outputs": [],
   "source": [
    "pipe_fsel = Pipeline([('selectkbest', SelectKBest()), ('clf', AdaBoostClassifier())])\n",
    "\n",
    "grid_fsel = {\n",
    "    'clf__base_estimator': [RandomForestClassifier(n_estimators=67)],\n",
    "    'clf__n_estimators': [31],\n",
    "    'selectkbest__score_func': SCORE_F,\n",
    "    'selectkbest__k': TOP_K\n",
    "}\n",
    "\n",
    "grid_search = GridSearchCV(pipe_fsel, param_grid=grid_fsel, scoring=scoring, refit=\"f1_micro\", n_jobs=-1, cv=skf)\n",
    "model_fsel = grid_search.fit(X=X, y=y)"
   ],
   "metadata": {
    "collapsed": false
   }
  },
  {
   "cell_type": "code",
   "execution_count": 45,
   "outputs": [
    {
     "data": {
      "text/plain": "Pipeline(steps=[('selectkbest', SelectKBest(k=40)),\n                ('clf',\n                 AdaBoostClassifier(base_estimator=RandomForestClassifier(n_estimators=67),\n                                    n_estimators=31))])"
     },
     "execution_count": 45,
     "metadata": {},
     "output_type": "execute_result"
    }
   ],
   "source": [
    "model_fsel.best_estimator_"
   ],
   "metadata": {
    "collapsed": false
   }
  },
  {
   "cell_type": "code",
   "execution_count": 46,
   "outputs": [
    {
     "data": {
      "text/plain": "0.8959030251558975"
     },
     "execution_count": 46,
     "metadata": {},
     "output_type": "execute_result"
    }
   ],
   "source": [
    "model_fsel.best_score_"
   ],
   "metadata": {
    "collapsed": false
   }
  },
  {
   "cell_type": "code",
   "execution_count": 47,
   "outputs": [
    {
     "data": {
      "text/plain": "<Figure size 720x720 with 2 Axes>",
      "image/png": "[encoded data removed]"
     },
     "metadata": {},
     "output_type": "display_data"
    }
   ],
   "source": [
    "#matrix\n",
    "select_k = SelectKBest(f_classif, k=40)\n",
    "selected_features = select_k.fit_transform(x_train, y_train)\n",
    "selected_features_test = select_k.transform(x_test)\n",
    "\n",
    "clf = AdaBoostClassifier(base_estimator=RandomForestClassifier(n_estimators=67),n_estimators=31).fit(selected_features, y_train)\n",
    "predicted = clf.predict(selected_features_test)\n",
    "\n",
    "plot_cm(y_test, predicted)"
   ],
   "metadata": {
    "collapsed": false
   }
  },
  {
   "cell_type": "code",
   "execution_count": 48,
   "outputs": [],
   "source": [
    "##################################################"
   ],
   "metadata": {
    "collapsed": false
   }
  },
  {
   "cell_type": "code",
   "execution_count": 57,
   "outputs": [
    {
     "name": "stdout",
     "output_type": "stream",
     "text": [
      "{'clf__base_estimator': RandomForestClassifier(n_estimators=1), 'clf__n_estimators': 96}\n"
     ]
    }
   ],
   "source": [
    "# AdaBoostClassifier + RandomForestClassifier 1\n",
    "# AdaBoostClassifier().get_params().keys()\n",
    "from sklearn.ensemble import RandomForestClassifier\n",
    "\n",
    "pipe = Pipeline([('clf', AdaBoostClassifier2())])\n",
    "grid = {\n",
    "    'clf__base_estimator': [RandomForestClassifier(n_estimators=1)],\n",
    "    'clf__n_estimators': (np.arange(1, 100, 5))\n",
    "}\n",
    "grid_search = GridSearchCV(pipe, param_grid=grid, scoring=scoring, refit=\"f1_micro\", n_jobs=-1, cv=skf)\n",
    "model = grid_search.fit(X=X, y=y)\n",
    "\n",
    "print(grid_search.best_params_)"
   ],
   "metadata": {
    "collapsed": false
   }
  },
  {
   "cell_type": "code",
   "execution_count": 58,
   "outputs": [
    {
     "data": {
      "text/plain": "Pipeline(steps=[('clf',\n                 AdaBoostClassifier(base_estimator=RandomForestClassifier(n_estimators=1),\n                                    n_estimators=96))])"
     },
     "execution_count": 58,
     "metadata": {},
     "output_type": "execute_result"
    }
   ],
   "source": [
    "model.best_estimator_"
   ],
   "metadata": {
    "collapsed": false
   }
  },
  {
   "cell_type": "code",
   "execution_count": 59,
   "outputs": [
    {
     "data": {
      "text/plain": "0.8326835316290128"
     },
     "execution_count": 59,
     "metadata": {},
     "output_type": "execute_result"
    }
   ],
   "source": [
    "model.best_score_"
   ],
   "metadata": {
    "collapsed": false
   }
  },
  {
   "cell_type": "code",
   "execution_count": 60,
   "outputs": [],
   "source": [
    "pipe_fsel = Pipeline([('selectkbest', SelectKBest()), ('clf', AdaBoostClassifier2())])\n",
    "\n",
    "grid_fsel = {\n",
    "    'clf__base_estimator': [RandomForestClassifier(n_estimators=1)],\n",
    "    'clf__n_estimators': [96],\n",
    "    'selectkbest__score_func': SCORE_F,\n",
    "    'selectkbest__k': TOP_K\n",
    "}\n",
    "\n",
    "grid_search = GridSearchCV(pipe_fsel, param_grid=grid_fsel, scoring=scoring, refit=\"f1_micro\", n_jobs=-1, cv=skf)\n",
    "model_fsel = grid_search.fit(X=X, y=y)"
   ],
   "metadata": {
    "collapsed": false
   }
  },
  {
   "cell_type": "code",
   "execution_count": 61,
   "outputs": [
    {
     "data": {
      "text/plain": "Pipeline(steps=[('selectkbest', SelectKBest(k=40)),\n                ('clf',\n                 AdaBoostClassifier(base_estimator=RandomForestClassifier(n_estimators=1),\n                                    n_estimators=96))])"
     },
     "execution_count": 61,
     "metadata": {},
     "output_type": "execute_result"
    }
   ],
   "source": [
    "model_fsel.best_estimator_"
   ],
   "metadata": {
    "collapsed": false
   }
  },
  {
   "cell_type": "code",
   "execution_count": 62,
   "outputs": [
    {
     "data": {
      "text/plain": "0.832227307398932"
     },
     "execution_count": 62,
     "metadata": {},
     "output_type": "execute_result"
    }
   ],
   "source": [
    "model_fsel.best_score_"
   ],
   "metadata": {
    "collapsed": false
   }
  },
  {
   "cell_type": "code",
   "execution_count": 63,
   "outputs": [
    {
     "data": {
      "text/plain": "<Figure size 720x720 with 2 Axes>",
      "image/png": "[encoded data removed]"
     },
     "metadata": {},
     "output_type": "display_data"
    }
   ],
   "source": [
    "#matrix\n",
    "select_k = SelectKBest(f_classif, k=40)\n",
    "selected_features = select_k.fit_transform(x_train, y_train)\n",
    "selected_features_test = select_k.transform(x_test)\n",
    "\n",
    "clf = AdaBoostClassifier(base_estimator=RandomForestClassifier(n_estimators=1), n_estimators=96).fit(selected_features, y_train)\n",
    "predicted = clf.predict(selected_features_test)\n",
    "plot_cm(y_test, predicted)"
   ],
   "metadata": {
    "collapsed": false
   }
  },
  {
   "cell_type": "code",
   "execution_count": null,
   "outputs": [],
   "source": [
    "##################################################"
   ],
   "metadata": {
    "collapsed": false
   }
  },
  {
   "cell_type": "code",
   "execution_count": null,
   "outputs": [],
   "source": [
    "# Comparison between classifiers tuned with best parameters"
   ],
   "metadata": {
    "collapsed": false
   }
  },
  {
   "cell_type": "code",
   "execution_count": 72,
   "outputs": [],
   "source": [
    "results = []\n",
    "cols = ['classifier', 'accuracy', 'precision', 'recall', 'f1', 'time']\n",
    "models = [\n",
    "    KNeighborsClassifier(n_neighbors=3),\n",
    "    RandomForestClassifier(n_estimators=67),\n",
    "    SVC(C=100, gamma=0.0001),\n",
    "    LogisticRegression(max_iter=1000, solver='liblinear'),\n",
    "    GaussianNB(),\n",
    "    AdaBoostClassifier(base_estimator=RandomForestClassifier(n_estimators=67),n_estimators=31),\n",
    "    AdaBoostClassifier2(base_estimator=RandomForestClassifier(n_estimators=1), n_estimators=96)\n",
    "]"
   ],
   "metadata": {
    "collapsed": false
   }
  },
  {
   "cell_type": "code",
   "execution_count": 73,
   "outputs": [
    {
     "data": {
      "application/vnd.plotly.v1+json": {
       "data": [
        {
         "marker": {
          "color": "#3D9970"
         },
         "name": "accuracy",
         "x": [
          "KNeighborsClassifier",
          "RandomForestClassifier",
          "SVC",
          "LogisticRegression",
          "GaussianNB",
          "AdaBoostClassifier",
          "AdaBoostClassifier",
          "KNeighborsClassifier",
          "RandomForestClassifier",
          "SVC",
          "LogisticRegression",
          "GaussianNB",
          "AdaBoostClassifier",
          "AdaBoostClassifier",
          "KNeighborsClassifier",
          "RandomForestClassifier",
          "SVC",
          "LogisticRegression",
          "GaussianNB",
          "AdaBoostClassifier",
          "AdaBoostClassifier",
          "KNeighborsClassifier",
          "RandomForestClassifier",
          "SVC",
          "LogisticRegression",
          "GaussianNB",
          "AdaBoostClassifier",
          "AdaBoostClassifier",
          "KNeighborsClassifier",
          "RandomForestClassifier",
          "SVC",
          "LogisticRegression",
          "GaussianNB",
          "AdaBoostClassifier",
          "AdaBoostClassifier",
          "KNeighborsClassifier",
          "RandomForestClassifier",
          "SVC",
          "LogisticRegression",
          "GaussianNB",
          "AdaBoostClassifier",
          "AdaBoostClassifier",
          "KNeighborsClassifier",
          "RandomForestClassifier",
          "SVC",
          "LogisticRegression",
          "GaussianNB",
          "AdaBoostClassifier",
          "AdaBoostClassifier",
          "KNeighborsClassifier",
          "RandomForestClassifier",
          "SVC",
          "LogisticRegression",
          "GaussianNB",
          "AdaBoostClassifier",
          "AdaBoostClassifier",
          "KNeighborsClassifier",
          "RandomForestClassifier",
          "SVC",
          "LogisticRegression",
          "GaussianNB",
          "AdaBoostClassifier",
          "AdaBoostClassifier",
          "KNeighborsClassifier",
          "RandomForestClassifier",
          "SVC",
          "LogisticRegression",
          "GaussianNB",
          "AdaBoostClassifier",
          "AdaBoostClassifier"
         ],
         "y": [
          0.8935926773455377,
          0.9084668192219679,
          0.931350114416476,
          0.5961098398169337,
          0.4977116704805492,
          0.9096109839816934,
          0.8421052631578947,
          0.8764302059496567,
          0.879862700228833,
          0.9290617848970252,
          0.5778032036613272,
          0.4816933638443936,
          0.8981693363844394,
          0.8443935926773455,
          0.9037800687285223,
          0.9014891179839634,
          0.9381443298969072,
          0.5933562428407789,
          0.5005727376861397,
          0.9072164948453608,
          0.8178694158075601,
          0.8831615120274914,
          0.8923253150057274,
          0.9289805269186713,
          0.5761741122565864,
          0.4822451317296678,
          0.8946162657502864,
          0.8327605956471936,
          0.8648339060710195,
          0.8923253150057274,
          0.9266895761741123,
          0.5910652920962199,
          0.4845360824742268,
          0.9026345933562429,
          0.8201603665521191,
          0.9003436426116839,
          0.8969072164948454,
          0.9198167239404352,
          0.5979381443298969,
          0.5200458190148912,
          0.8991981672394044,
          0.8281786941580757,
          0.9003436426116839,
          0.8911798396334479,
          0.9301260022909508,
          0.5945017182130584,
          0.5085910652920962,
          0.8957617411225659,
          0.8465063001145475,
          0.854524627720504,
          0.8957617411225659,
          0.9278350515463918,
          0.5715922107674685,
          0.4856815578465063,
          0.8991981672394044,
          0.8361970217640321,
          0.8717067583046965,
          0.8854524627720504,
          0.9152348224513173,
          0.586483390607102,
          0.47766323024054985,
          0.8820160366552119,
          0.8407789232531501,
          0.8671248568155785,
          0.8820160366552119,
          0.9186712485681557,
          0.6048109965635738,
          0.47193585337915234,
          0.8900343642611683,
          0.8121420389461627
         ],
         "type": "box"
        },
        {
         "marker": {
          "color": "#FF4136"
         },
         "name": "precision",
         "x": [
          "KNeighborsClassifier",
          "RandomForestClassifier",
          "SVC",
          "LogisticRegression",
          "GaussianNB",
          "AdaBoostClassifier",
          "AdaBoostClassifier",
          "KNeighborsClassifier",
          "RandomForestClassifier",
          "SVC",
          "LogisticRegression",
          "GaussianNB",
          "AdaBoostClassifier",
          "AdaBoostClassifier",
          "KNeighborsClassifier",
          "RandomForestClassifier",
          "SVC",
          "LogisticRegression",
          "GaussianNB",
          "AdaBoostClassifier",
          "AdaBoostClassifier",
          "KNeighborsClassifier",
          "RandomForestClassifier",
          "SVC",
          "LogisticRegression",
          "GaussianNB",
          "AdaBoostClassifier",
          "AdaBoostClassifier",
          "KNeighborsClassifier",
          "RandomForestClassifier",
          "SVC",
          "LogisticRegression",
          "GaussianNB",
          "AdaBoostClassifier",
          "AdaBoostClassifier",
          "KNeighborsClassifier",
          "RandomForestClassifier",
          "SVC",
          "LogisticRegression",
          "GaussianNB",
          "AdaBoostClassifier",
          "AdaBoostClassifier",
          "KNeighborsClassifier",
          "RandomForestClassifier",
          "SVC",
          "LogisticRegression",
          "GaussianNB",
          "AdaBoostClassifier",
          "AdaBoostClassifier",
          "KNeighborsClassifier",
          "RandomForestClassifier",
          "SVC",
          "LogisticRegression",
          "GaussianNB",
          "AdaBoostClassifier",
          "AdaBoostClassifier",
          "KNeighborsClassifier",
          "RandomForestClassifier",
          "SVC",
          "LogisticRegression",
          "GaussianNB",
          "AdaBoostClassifier",
          "AdaBoostClassifier",
          "KNeighborsClassifier",
          "RandomForestClassifier",
          "SVC",
          "LogisticRegression",
          "GaussianNB",
          "AdaBoostClassifier",
          "AdaBoostClassifier"
         ],
         "y": [
          0.898832992646422,
          0.9129236992584956,
          0.9314311340296636,
          0.6077231938504339,
          0.5165016338134119,
          0.9127016527188234,
          0.856544642761263,
          0.8840168171123984,
          0.883327016819438,
          0.9286865851115828,
          0.5792796954368638,
          0.5086737291838459,
          0.9029225047637917,
          0.8545251326673172,
          0.9057469535098605,
          0.9074141552890832,
          0.9379530370101257,
          0.5982540848150243,
          0.5320373537450251,
          0.9098751019766432,
          0.8352687044211211,
          0.8897631080025407,
          0.8960731461637765,
          0.930553319595462,
          0.571354084970113,
          0.4956154311832194,
          0.8982689052204786,
          0.8455769403733326,
          0.8738052730979815,
          0.8987145809327096,
          0.9275858584471617,
          0.5947925358825225,
          0.5126420699280391,
          0.9063000691269618,
          0.8348276794471049,
          0.9043976276097947,
          0.9007246387373617,
          0.9218930128816184,
          0.6018837141928475,
          0.5377641525466328,
          0.9020669545512526,
          0.8432638354996929,
          0.9098033893962206,
          0.8936269850576818,
          0.930984403599414,
          0.5975563602278543,
          0.5297091741439515,
          0.899170223688235,
          0.8523375770979842,
          0.8610823606721604,
          0.9028553812507957,
          0.9282273328789361,
          0.5783103038916596,
          0.5130018187411196,
          0.9045377185769944,
          0.8459100540782851,
          0.8812646316119513,
          0.8897023391516604,
          0.9163195627947043,
          0.5808126809543159,
          0.49810512426769404,
          0.8871633602252066,
          0.8576109788257084,
          0.8763133221186685,
          0.887605337647427,
          0.9196242640909709,
          0.6020166716760204,
          0.4950378073579694,
          0.8933931656236508,
          0.8281096355632619
         ],
         "type": "box"
        },
        {
         "marker": {
          "color": "#FF851B"
         },
         "name": "recall",
         "x": [
          "KNeighborsClassifier",
          "RandomForestClassifier",
          "SVC",
          "LogisticRegression",
          "GaussianNB",
          "AdaBoostClassifier",
          "AdaBoostClassifier",
          "KNeighborsClassifier",
          "RandomForestClassifier",
          "SVC",
          "LogisticRegression",
          "GaussianNB",
          "AdaBoostClassifier",
          "AdaBoostClassifier",
          "KNeighborsClassifier",
          "RandomForestClassifier",
          "SVC",
          "LogisticRegression",
          "GaussianNB",
          "AdaBoostClassifier",
          "AdaBoostClassifier",
          "KNeighborsClassifier",
          "RandomForestClassifier",
          "SVC",
          "LogisticRegression",
          "GaussianNB",
          "AdaBoostClassifier",
          "AdaBoostClassifier",
          "KNeighborsClassifier",
          "RandomForestClassifier",
          "SVC",
          "LogisticRegression",
          "GaussianNB",
          "AdaBoostClassifier",
          "AdaBoostClassifier",
          "KNeighborsClassifier",
          "RandomForestClassifier",
          "SVC",
          "LogisticRegression",
          "GaussianNB",
          "AdaBoostClassifier",
          "AdaBoostClassifier",
          "KNeighborsClassifier",
          "RandomForestClassifier",
          "SVC",
          "LogisticRegression",
          "GaussianNB",
          "AdaBoostClassifier",
          "AdaBoostClassifier",
          "KNeighborsClassifier",
          "RandomForestClassifier",
          "SVC",
          "LogisticRegression",
          "GaussianNB",
          "AdaBoostClassifier",
          "AdaBoostClassifier",
          "KNeighborsClassifier",
          "RandomForestClassifier",
          "SVC",
          "LogisticRegression",
          "GaussianNB",
          "AdaBoostClassifier",
          "AdaBoostClassifier",
          "KNeighborsClassifier",
          "RandomForestClassifier",
          "SVC",
          "LogisticRegression",
          "GaussianNB",
          "AdaBoostClassifier",
          "AdaBoostClassifier"
         ],
         "y": [
          0.8935926773455377,
          0.9084668192219679,
          0.931350114416476,
          0.5961098398169337,
          0.4977116704805492,
          0.9096109839816934,
          0.8421052631578947,
          0.8764302059496567,
          0.879862700228833,
          0.9290617848970252,
          0.5778032036613272,
          0.4816933638443936,
          0.8981693363844394,
          0.8443935926773455,
          0.9037800687285223,
          0.9014891179839634,
          0.9381443298969072,
          0.5933562428407789,
          0.5005727376861397,
          0.9072164948453608,
          0.8178694158075601,
          0.8831615120274914,
          0.8923253150057274,
          0.9289805269186713,
          0.5761741122565864,
          0.4822451317296678,
          0.8946162657502864,
          0.8327605956471936,
          0.8648339060710195,
          0.8923253150057274,
          0.9266895761741123,
          0.5910652920962199,
          0.4845360824742268,
          0.9026345933562429,
          0.8201603665521191,
          0.9003436426116839,
          0.8969072164948454,
          0.9198167239404352,
          0.5979381443298969,
          0.5200458190148912,
          0.8991981672394044,
          0.8281786941580757,
          0.9003436426116839,
          0.8911798396334479,
          0.9301260022909508,
          0.5945017182130584,
          0.5085910652920962,
          0.8957617411225659,
          0.8465063001145475,
          0.854524627720504,
          0.8957617411225659,
          0.9278350515463918,
          0.5715922107674685,
          0.4856815578465063,
          0.8991981672394044,
          0.8361970217640321,
          0.8717067583046965,
          0.8854524627720504,
          0.9152348224513173,
          0.586483390607102,
          0.47766323024054985,
          0.8820160366552119,
          0.8407789232531501,
          0.8671248568155785,
          0.8820160366552119,
          0.9186712485681557,
          0.6048109965635738,
          0.47193585337915234,
          0.8900343642611683,
          0.8121420389461627
         ],
         "type": "box"
        },
        {
         "marker": {
          "color": "#33cc33"
         },
         "name": "f1",
         "x": [
          "KNeighborsClassifier",
          "RandomForestClassifier",
          "SVC",
          "LogisticRegression",
          "GaussianNB",
          "AdaBoostClassifier",
          "AdaBoostClassifier",
          "KNeighborsClassifier",
          "RandomForestClassifier",
          "SVC",
          "LogisticRegression",
          "GaussianNB",
          "AdaBoostClassifier",
          "AdaBoostClassifier",
          "KNeighborsClassifier",
          "RandomForestClassifier",
          "SVC",
          "LogisticRegression",
          "GaussianNB",
          "AdaBoostClassifier",
          "AdaBoostClassifier",
          "KNeighborsClassifier",
          "RandomForestClassifier",
          "SVC",
          "LogisticRegression",
          "GaussianNB",
          "AdaBoostClassifier",
          "AdaBoostClassifier",
          "KNeighborsClassifier",
          "RandomForestClassifier",
          "SVC",
          "LogisticRegression",
          "GaussianNB",
          "AdaBoostClassifier",
          "AdaBoostClassifier",
          "KNeighborsClassifier",
          "RandomForestClassifier",
          "SVC",
          "LogisticRegression",
          "GaussianNB",
          "AdaBoostClassifier",
          "AdaBoostClassifier",
          "KNeighborsClassifier",
          "RandomForestClassifier",
          "SVC",
          "LogisticRegression",
          "GaussianNB",
          "AdaBoostClassifier",
          "AdaBoostClassifier",
          "KNeighborsClassifier",
          "RandomForestClassifier",
          "SVC",
          "LogisticRegression",
          "GaussianNB",
          "AdaBoostClassifier",
          "AdaBoostClassifier",
          "KNeighborsClassifier",
          "RandomForestClassifier",
          "SVC",
          "LogisticRegression",
          "GaussianNB",
          "AdaBoostClassifier",
          "AdaBoostClassifier",
          "KNeighborsClassifier",
          "RandomForestClassifier",
          "SVC",
          "LogisticRegression",
          "GaussianNB",
          "AdaBoostClassifier",
          "AdaBoostClassifier"
         ],
         "y": [
          0.8932467597950069,
          0.9088309041723606,
          0.9309924375054769,
          0.5885930591149476,
          0.49851353602176834,
          0.9096058276806596,
          0.8441006536893035,
          0.8751241419119066,
          0.8785224148018589,
          0.9280781769961571,
          0.5739722904851947,
          0.4821899829903671,
          0.8977794998053831,
          0.8460278455666324,
          0.9034756376551653,
          0.9015773099786392,
          0.9379329783952502,
          0.5868828342447415,
          0.505734423173019,
          0.9069270646869898,
          0.82152342063137,
          0.8813193387108117,
          0.8918796795223493,
          0.9293356986617192,
          0.5686572548408303,
          0.48373929634277624,
          0.8940524656712426,
          0.8348144071074216,
          0.8648125572309643,
          0.8924712546875235,
          0.926630821209726,
          0.5864836541512402,
          0.4862178124156816,
          0.9025787566966631,
          0.8240506675784048,
          0.8998605335184844,
          0.8967525740535889,
          0.9200414712680547,
          0.592326196881781,
          0.5202106217844873,
          0.898669067630234,
          0.8314187973170437,
          0.9012341451088275,
          0.8906618410486613,
          0.9301438917994398,
          0.5896667770067102,
          0.5063679518488383,
          0.8955808722128145,
          0.8469252066596572,
          0.8536447997738078,
          0.8961168429059164,
          0.9271012614999862,
          0.5646233791797552,
          0.48410302805922795,
          0.8994690877045064,
          0.838040759757667,
          0.8724109964678212,
          0.8852794360238173,
          0.9147838306362147,
          0.5758125332613017,
          0.4742397482098859,
          0.8818904165537035,
          0.843724230018682,
          0.8672249989054387,
          0.8821911588644401,
          0.9176251552150735,
          0.5981123232795451,
          0.4662570103377142,
          0.889834598823839,
          0.8140689515594965
         ],
         "type": "box"
        },
        {
         "marker": {
          "color": "#0066ff"
         },
         "name": "time",
         "x": [
          "KNeighborsClassifier",
          "RandomForestClassifier",
          "SVC",
          "LogisticRegression",
          "GaussianNB",
          "AdaBoostClassifier",
          "AdaBoostClassifier",
          "KNeighborsClassifier",
          "RandomForestClassifier",
          "SVC",
          "LogisticRegression",
          "GaussianNB",
          "AdaBoostClassifier",
          "AdaBoostClassifier",
          "KNeighborsClassifier",
          "RandomForestClassifier",
          "SVC",
          "LogisticRegression",
          "GaussianNB",
          "AdaBoostClassifier",
          "AdaBoostClassifier",
          "KNeighborsClassifier",
          "RandomForestClassifier",
          "SVC",
          "LogisticRegression",
          "GaussianNB",
          "AdaBoostClassifier",
          "AdaBoostClassifier",
          "KNeighborsClassifier",
          "RandomForestClassifier",
          "SVC",
          "LogisticRegression",
          "GaussianNB",
          "AdaBoostClassifier",
          "AdaBoostClassifier",
          "KNeighborsClassifier",
          "RandomForestClassifier",
          "SVC",
          "LogisticRegression",
          "GaussianNB",
          "AdaBoostClassifier",
          "AdaBoostClassifier",
          "KNeighborsClassifier",
          "RandomForestClassifier",
          "SVC",
          "LogisticRegression",
          "GaussianNB",
          "AdaBoostClassifier",
          "AdaBoostClassifier",
          "KNeighborsClassifier",
          "RandomForestClassifier",
          "SVC",
          "LogisticRegression",
          "GaussianNB",
          "AdaBoostClassifier",
          "AdaBoostClassifier",
          "KNeighborsClassifier",
          "RandomForestClassifier",
          "SVC",
          "LogisticRegression",
          "GaussianNB",
          "AdaBoostClassifier",
          "AdaBoostClassifier",
          "KNeighborsClassifier",
          "RandomForestClassifier",
          "SVC",
          "LogisticRegression",
          "GaussianNB",
          "AdaBoostClassifier",
          "AdaBoostClassifier"
         ],
         "y": [
          0.015223000000332831,
          4.605985000000146,
          2.189155999999457,
          8.897530000000188,
          0.04025499999988824,
          4.311491000000387,
          4.6050020000002405,
          0.006147000000055414,
          3.4513050000005023,
          2.2947360000007393,
          7.106786000000284,
          0.058803000000807515,
          4.256502999999611,
          5.179752000000008,
          0.007013999999799125,
          3.0783599999995204,
          1.6156209999999191,
          4.304305999999997,
          0.0408000000006723,
          3.559815000000526,
          3.669127000000117,
          0.0028280000005906913,
          3.0478699999994205,
          1.6085739999998623,
          4.522637999999461,
          0.032282999999551976,
          3.5137889999996332,
          3.4636280000004263,
          0.0034059999998135027,
          3.1683579999998983,
          1.6100710000000618,
          4.6208120000001145,
          0.03307000000040716,
          3.2948000000005777,
          3.0190880000000107,
          0.002695000000130676,
          3.0643630000004123,
          1.7317979999997988,
          4.5960039999999935,
          0.03394000000025699,
          3.368123000000196,
          3.4328230000000985,
          0.003297000000202388,
          2.8592790000002424,
          1.5660950000001321,
          4.5075529999994615,
          0.03214699999989534,
          4.505678999999873,
          4.9598449999994045,
          0.004507999999987078,
          3.5621460000002116,
          2.103348000000551,
          6.867995999999948,
          0.04860499999995227,
          4.139057000000321,
          4.453317000000425,
          0.003673999999591615,
          3.4934199999997873,
          2.0852590000004056,
          6.818711000000803,
          0.045076999999764666,
          4.083700000000135,
          4.414236999999957,
          0.003982999999607273,
          3.5038839999997435,
          2.0638580000004367,
          6.953059999999823,
          0.060327000000143016,
          4.426190000000133,
          4.769460999999865
         ],
         "type": "box"
        }
       ],
       "layout": {
        "template": {
         "data": {
          "bar": [
           {
            "error_x": {
             "color": "#2a3f5f"
            },
            "error_y": {
             "color": "#2a3f5f"
            },
            "marker": {
             "line": {
              "color": "#E5ECF6",
              "width": 0.5
             },
             "pattern": {
              "fillmode": "overlay",
              "size": 10,
              "solidity": 0.2
             }
            },
            "type": "bar"
           }
          ],
          "barpolar": [
           {
            "marker": {
             "line": {
              "color": "#E5ECF6",
              "width": 0.5
             },
             "pattern": {
              "fillmode": "overlay",
              "size": 10,
              "solidity": 0.2
             }
            },
            "type": "barpolar"
           }
          ],
          "carpet": [
           {
            "aaxis": {
             "endlinecolor": "#2a3f5f",
             "gridcolor": "white",
             "linecolor": "white",
             "minorgridcolor": "white",
             "startlinecolor": "#2a3f5f"
            },
            "baxis": {
             "endlinecolor": "#2a3f5f",
             "gridcolor": "white",
             "linecolor": "white",
             "minorgridcolor": "white",
             "startlinecolor": "#2a3f5f"
            },
            "type": "carpet"
           }
          ],
          "choropleth": [
           {
            "colorbar": {
             "outlinewidth": 0,
             "ticks": ""
            },
            "type": "choropleth"
           }
          ],
          "contour": [
           {
            "colorbar": {
             "outlinewidth": 0,
             "ticks": ""
            },
            "colorscale": [
             [
              0.0,
              "#0d0887"
             ],
             [
              0.1111111111111111,
              "#46039f"
             ],
             [
              0.2222222222222222,
              "#7201a8"
             ],
             [
              0.3333333333333333,
              "#9c179e"
             ],
             [
              0.4444444444444444,
              "#bd3786"
             ],
             [
              0.5555555555555556,
              "#d8576b"
             ],
             [
              0.6666666666666666,
              "#ed7953"
             ],
             [
              0.7777777777777778,
              "#fb9f3a"
             ],
             [
              0.8888888888888888,
              "#fdca26"
             ],
             [
              1.0,
              "#f0f921"
             ]
            ],
            "type": "contour"
           }
          ],
          "contourcarpet": [
           {
            "colorbar": {
             "outlinewidth": 0,
             "ticks": ""
            },
            "type": "contourcarpet"
           }
          ],
          "heatmap": [
           {
            "colorbar": {
             "outlinewidth": 0,
             "ticks": ""
            },
            "colorscale": [
             [
              0.0,
              "#0d0887"
             ],
             [
              0.1111111111111111,
              "#46039f"
             ],
             [
              0.2222222222222222,
              "#7201a8"
             ],
             [
              0.3333333333333333,
              "#9c179e"
             ],
             [
              0.4444444444444444,
              "#bd3786"
             ],
             [
              0.5555555555555556,
              "#d8576b"
             ],
             [
              0.6666666666666666,
              "#ed7953"
             ],
             [
              0.7777777777777778,
              "#fb9f3a"
             ],
             [
              0.8888888888888888,
              "#fdca26"
             ],
             [
              1.0,
              "#f0f921"
             ]
            ],
            "type": "heatmap"
           }
          ],
          "heatmapgl": [
           {
            "colorbar": {
             "outlinewidth": 0,
             "ticks": ""
            },
            "colorscale": [
             [
              0.0,
              "#0d0887"
             ],
             [
              0.1111111111111111,
              "#46039f"
             ],
             [
              0.2222222222222222,
              "#7201a8"
             ],
             [
              0.3333333333333333,
              "#9c179e"
             ],
             [
              0.4444444444444444,
              "#bd3786"
             ],
             [
              0.5555555555555556,
              "#d8576b"
             ],
             [
              0.6666666666666666,
              "#ed7953"
             ],
             [
              0.7777777777777778,
              "#fb9f3a"
             ],
             [
              0.8888888888888888,
              "#fdca26"
             ],
             [
              1.0,
              "#f0f921"
             ]
            ],
            "type": "heatmapgl"
           }
          ],
          "histogram": [
           {
            "marker": {
             "pattern": {
              "fillmode": "overlay",
              "size": 10,
              "solidity": 0.2
             }
            },
            "type": "histogram"
           }
          ],
          "histogram2d": [
           {
            "colorbar": {
             "outlinewidth": 0,
             "ticks": ""
            },
            "colorscale": [
             [
              0.0,
              "#0d0887"
             ],
             [
              0.1111111111111111,
              "#46039f"
             ],
             [
              0.2222222222222222,
              "#7201a8"
             ],
             [
              0.3333333333333333,
              "#9c179e"
             ],
             [
              0.4444444444444444,
              "#bd3786"
             ],
             [
              0.5555555555555556,
              "#d8576b"
             ],
             [
              0.6666666666666666,
              "#ed7953"
             ],
             [
              0.7777777777777778,
              "#fb9f3a"
             ],
             [
              0.8888888888888888,
              "#fdca26"
             ],
             [
              1.0,
              "#f0f921"
             ]
            ],
            "type": "histogram2d"
           }
          ],
          "histogram2dcontour": [
           {
            "colorbar": {
             "outlinewidth": 0,
             "ticks": ""
            },
            "colorscale": [
             [
              0.0,
              "#0d0887"
             ],
             [
              0.1111111111111111,
              "#46039f"
             ],
             [
              0.2222222222222222,
              "#7201a8"
             ],
             [
              0.3333333333333333,
              "#9c179e"
             ],
             [
              0.4444444444444444,
              "#bd3786"
             ],
             [
              0.5555555555555556,
              "#d8576b"
             ],
             [
              0.6666666666666666,
              "#ed7953"
             ],
             [
              0.7777777777777778,
              "#fb9f3a"
             ],
             [
              0.8888888888888888,
              "#fdca26"
             ],
             [
              1.0,
              "#f0f921"
             ]
            ],
            "type": "histogram2dcontour"
           }
          ],
          "mesh3d": [
           {
            "colorbar": {
             "outlinewidth": 0,
             "ticks": ""
            },
            "type": "mesh3d"
           }
          ],
          "parcoords": [
           {
            "line": {
             "colorbar": {
              "outlinewidth": 0,
              "ticks": ""
             }
            },
            "type": "parcoords"
           }
          ],
          "pie": [
           {
            "automargin": true,
            "type": "pie"
           }
          ],
          "scatter": [
           {
            "marker": {
             "colorbar": {
              "outlinewidth": 0,
              "ticks": ""
             }
            },
            "type": "scatter"
           }
          ],
          "scatter3d": [
           {
            "line": {
             "colorbar": {
              "outlinewidth": 0,
              "ticks": ""
             }
            },
            "marker": {
             "colorbar": {
              "outlinewidth": 0,
              "ticks": ""
             }
            },
            "type": "scatter3d"
           }
          ],
          "scattercarpet": [
           {
            "marker": {
             "colorbar": {
              "outlinewidth": 0,
              "ticks": ""
             }
            },
            "type": "scattercarpet"
           }
          ],
          "scattergeo": [
           {
            "marker": {
             "colorbar": {
              "outlinewidth": 0,
              "ticks": ""
             }
            },
            "type": "scattergeo"
           }
          ],
          "scattergl": [
           {
            "marker": {
             "colorbar": {
              "outlinewidth": 0,
              "ticks": ""
             }
            },
            "type": "scattergl"
           }
          ],
          "scattermapbox": [
           {
            "marker": {
             "colorbar": {
              "outlinewidth": 0,
              "ticks": ""
             }
            },
            "type": "scattermapbox"
           }
          ],
          "scatterpolar": [
           {
            "marker": {
             "colorbar": {
              "outlinewidth": 0,
              "ticks": ""
             }
            },
            "type": "scatterpolar"
           }
          ],
          "scatterpolargl": [
           {
            "marker": {
             "colorbar": {
              "outlinewidth": 0,
              "ticks": ""
             }
            },
            "type": "scatterpolargl"
           }
          ],
          "scatterternary": [
           {
            "marker": {
             "colorbar": {
              "outlinewidth": 0,
              "ticks": ""
             }
            },
            "type": "scatterternary"
           }
          ],
          "surface": [
           {
            "colorbar": {
             "outlinewidth": 0,
             "ticks": ""
            },
            "colorscale": [
             [
              0.0,
              "#0d0887"
             ],
             [
              0.1111111111111111,
              "#46039f"
             ],
             [
              0.2222222222222222,
              "#7201a8"
             ],
             [
              0.3333333333333333,
              "#9c179e"
             ],
             [
              0.4444444444444444,
              "#bd3786"
             ],
             [
              0.5555555555555556,
              "#d8576b"
             ],
             [
              0.6666666666666666,
              "#ed7953"
             ],
             [
              0.7777777777777778,
              "#fb9f3a"
             ],
             [
              0.8888888888888888,
              "#fdca26"
             ],
             [
              1.0,
              "#f0f921"
             ]
            ],
            "type": "surface"
           }
          ],
          "table": [
           {
            "cells": {
             "fill": {
              "color": "#EBF0F8"
             },
             "line": {
              "color": "white"
             }
            },
            "header": {
             "fill": {
              "color": "#C8D4E3"
             },
             "line": {
              "color": "white"
             }
            },
            "type": "table"
           }
          ]
         },
         "layout": {
          "annotationdefaults": {
           "arrowcolor": "#2a3f5f",
           "arrowhead": 0,
           "arrowwidth": 1
          },
          "autotypenumbers": "strict",
          "coloraxis": {
           "colorbar": {
            "outlinewidth": 0,
            "ticks": ""
           }
          },
          "colorscale": {
           "diverging": [
            [
             0,
             "#8e0152"
            ],
            [
             0.1,
             "#c51b7d"
            ],
            [
             0.2,
             "#de77ae"
            ],
            [
             0.3,
             "#f1b6da"
            ],
            [
             0.4,
             "#fde0ef"
            ],
            [
             0.5,
             "#f7f7f7"
            ],
            [
             0.6,
             "#e6f5d0"
            ],
            [
             0.7,
             "#b8e186"
            ],
            [
             0.8,
             "#7fbc41"
            ],
            [
             0.9,
             "#4d9221"
            ],
            [
             1,
             "#276419"
            ]
           ],
           "sequential": [
            [
             0.0,
             "#0d0887"
            ],
            [
             0.1111111111111111,
             "#46039f"
            ],
            [
             0.2222222222222222,
             "#7201a8"
            ],
            [
             0.3333333333333333,
             "#9c179e"
            ],
            [
             0.4444444444444444,
             "#bd3786"
            ],
            [
             0.5555555555555556,
             "#d8576b"
            ],
            [
             0.6666666666666666,
             "#ed7953"
            ],
            [
             0.7777777777777778,
             "#fb9f3a"
            ],
            [
             0.8888888888888888,
             "#fdca26"
            ],
            [
             1.0,
             "#f0f921"
            ]
           ],
           "sequentialminus": [
            [
             0.0,
             "#0d0887"
            ],
            [
             0.1111111111111111,
             "#46039f"
            ],
            [
             0.2222222222222222,
             "#7201a8"
            ],
            [
             0.3333333333333333,
             "#9c179e"
            ],
            [
             0.4444444444444444,
             "#bd3786"
            ],
            [
             0.5555555555555556,
             "#d8576b"
            ],
            [
             0.6666666666666666,
             "#ed7953"
            ],
            [
             0.7777777777777778,
             "#fb9f3a"
            ],
            [
             0.8888888888888888,
             "#fdca26"
            ],
            [
             1.0,
             "#f0f921"
            ]
           ]
          },
          "colorway": [
           "#636efa",
           "#EF553B",
           "#00cc96",
           "#ab63fa",
           "#FFA15A",
           "#19d3f3",
           "#FF6692",
           "#B6E880",
           "#FF97FF",
           "#FECB52"
          ],
          "font": {
           "color": "#2a3f5f"
          },
          "geo": {
           "bgcolor": "white",
           "lakecolor": "white",
           "landcolor": "#E5ECF6",
           "showlakes": true,
           "showland": true,
           "subunitcolor": "white"
          },
          "hoverlabel": {
           "align": "left"
          },
          "hovermode": "closest",
          "mapbox": {
           "style": "light"
          },
          "paper_bgcolor": "white",
          "plot_bgcolor": "#E5ECF6",
          "polar": {
           "angularaxis": {
            "gridcolor": "white",
            "linecolor": "white",
            "ticks": ""
           },
           "bgcolor": "#E5ECF6",
           "radialaxis": {
            "gridcolor": "white",
            "linecolor": "white",
            "ticks": ""
           }
          },
          "scene": {
           "xaxis": {
            "backgroundcolor": "#E5ECF6",
            "gridcolor": "white",
            "gridwidth": 2,
            "linecolor": "white",
            "showbackground": true,
            "ticks": "",
            "zerolinecolor": "white"
           },
           "yaxis": {
            "backgroundcolor": "#E5ECF6",
            "gridcolor": "white",
            "gridwidth": 2,
            "linecolor": "white",
            "showbackground": true,
            "ticks": "",
            "zerolinecolor": "white"
           },
           "zaxis": {
            "backgroundcolor": "#E5ECF6",
            "gridcolor": "white",
            "gridwidth": 2,
            "linecolor": "white",
            "showbackground": true,
            "ticks": "",
            "zerolinecolor": "white"
           }
          },
          "shapedefaults": {
           "line": {
            "color": "#2a3f5f"
           }
          },
          "ternary": {
           "aaxis": {
            "gridcolor": "white",
            "linecolor": "white",
            "ticks": ""
           },
           "baxis": {
            "gridcolor": "white",
            "linecolor": "white",
            "ticks": ""
           },
           "bgcolor": "#E5ECF6",
           "caxis": {
            "gridcolor": "white",
            "linecolor": "white",
            "ticks": ""
           }
          },
          "title": {
           "x": 0.05
          },
          "xaxis": {
           "automargin": true,
           "gridcolor": "white",
           "linecolor": "white",
           "ticks": "",
           "title": {
            "standoff": 15
           },
           "zerolinecolor": "white",
           "zerolinewidth": 2
          },
          "yaxis": {
           "automargin": true,
           "gridcolor": "white",
           "linecolor": "white",
           "ticks": "",
           "title": {
            "standoff": 15
           },
           "zerolinecolor": "white",
           "zerolinewidth": 2
          }
         }
        },
        "yaxis": {
         "title": {
          "text": "score"
         }
        },
        "boxmode": "group"
       },
       "config": {
        "plotlyServerURL": "https://plot.ly"
       }
      },
      "text/html": "<div>                            <div id=\"63fa7116-8ee8-43f1-bce4-a24868e29b11\" class=\"plotly-graph-div\" style=\"height:525px; width:100%;\"></div>            <script type=\"text/javascript\">                require([\"plotly\"], function(Plotly) {                    window.PLOTLYENV=window.PLOTLYENV || {};                                    if (document.getElementById(\"63fa7116-8ee8-43f1-bce4-a24868e29b11\")) {                    Plotly.newPlot(                        \"63fa7116-8ee8-43f1-bce4-a24868e29b11\",                        [{\"marker\":{\"color\":\"#3D9970\"},\"name\":\"accuracy\",\"x\":[\"KNeighborsClassifier\",\"RandomForestClassifier\",\"SVC\",\"LogisticRegression\",\"GaussianNB\",\"AdaBoostClassifier\",\"AdaBoostClassifier\",\"KNeighborsClassifier\",\"RandomForestClassifier\",\"SVC\",\"LogisticRegression\",\"GaussianNB\",\"AdaBoostClassifier\",\"AdaBoostClassifier\",\"KNeighborsClassifier\",\"RandomForestClassifier\",\"SVC\",\"LogisticRegression\",\"GaussianNB\",\"AdaBoostClassifier\",\"AdaBoostClassifier\",\"KNeighborsClassifier\",\"RandomForestClassifier\",\"SVC\",\"LogisticRegression\",\"GaussianNB\",\"AdaBoostClassifier\",\"AdaBoostClassifier\",\"KNeighborsClassifier\",\"RandomForestClassifier\",\"SVC\",\"LogisticRegression\",\"GaussianNB\",\"AdaBoostClassifier\",\"AdaBoostClassifier\",\"KNeighborsClassifier\",\"RandomForestClassifier\",\"SVC\",\"LogisticRegression\",\"GaussianNB\",\"AdaBoostClassifier\",\"AdaBoostClassifier\",\"KNeighborsClassifier\",\"RandomForestClassifier\",\"SVC\",\"LogisticRegression\",\"GaussianNB\",\"AdaBoostClassifier\",\"AdaBoostClassifier\",\"KNeighborsClassifier\",\"RandomForestClassifier\",\"SVC\",\"LogisticRegression\",\"GaussianNB\",\"AdaBoostClassifier\",\"AdaBoostClassifier\",\"KNeighborsClassifier\",\"RandomForestClassifier\",\"SVC\",\"LogisticRegression\",\"GaussianNB\",\"AdaBoostClassifier\",\"AdaBoostClassifier\",\"KNeighborsClassifier\",\"RandomForestClassifier\",\"SVC\",\"LogisticRegression\",\"GaussianNB\",\"AdaBoostClassifier\",\"AdaBoostClassifier\"],\"y\":[0.8935926773455377,0.9084668192219679,0.931350114416476,0.5961098398169337,0.4977116704805492,0.9096109839816934,0.8421052631578947,0.8764302059496567,0.879862700228833,0.9290617848970252,0.5778032036613272,0.4816933638443936,0.8981693363844394,0.8443935926773455,0.9037800687285223,0.9014891179839634,0.9381443298969072,0.5933562428407789,0.5005727376861397,0.9072164948453608,0.8178694158075601,0.8831615120274914,0.8923253150057274,0.9289805269186713,0.5761741122565864,0.4822451317296678,0.8946162657502864,0.8327605956471936,0.8648339060710195,0.8923253150057274,0.9266895761741123,0.5910652920962199,0.4845360824742268,0.9026345933562429,0.8201603665521191,0.9003436426116839,0.8969072164948454,0.9198167239404352,0.5979381443298969,0.5200458190148912,0.8991981672394044,0.8281786941580757,0.9003436426116839,0.8911798396334479,0.9301260022909508,0.5945017182130584,0.5085910652920962,0.8957617411225659,0.8465063001145475,0.854524627720504,0.8957617411225659,0.9278350515463918,0.5715922107674685,0.4856815578465063,0.8991981672394044,0.8361970217640321,0.8717067583046965,0.8854524627720504,0.9152348224513173,0.586483390607102,0.47766323024054985,0.8820160366552119,0.8407789232531501,0.8671248568155785,0.8820160366552119,0.9186712485681557,0.6048109965635738,0.47193585337915234,0.8900343642611683,0.8121420389461627],\"type\":\"box\"},{\"marker\":{\"color\":\"#FF4136\"},\"name\":\"precision\",\"x\":[\"KNeighborsClassifier\",\"RandomForestClassifier\",\"SVC\",\"LogisticRegression\",\"GaussianNB\",\"AdaBoostClassifier\",\"AdaBoostClassifier\",\"KNeighborsClassifier\",\"RandomForestClassifier\",\"SVC\",\"LogisticRegression\",\"GaussianNB\",\"AdaBoostClassifier\",\"AdaBoostClassifier\",\"KNeighborsClassifier\",\"RandomForestClassifier\",\"SVC\",\"LogisticRegression\",\"GaussianNB\",\"AdaBoostClassifier\",\"AdaBoostClassifier\",\"KNeighborsClassifier\",\"RandomForestClassifier\",\"SVC\",\"LogisticRegression\",\"GaussianNB\",\"AdaBoostClassifier\",\"AdaBoostClassifier\",\"KNeighborsClassifier\",\"RandomForestClassifier\",\"SVC\",\"LogisticRegression\",\"GaussianNB\",\"AdaBoostClassifier\",\"AdaBoostClassifier\",\"KNeighborsClassifier\",\"RandomForestClassifier\",\"SVC\",\"LogisticRegression\",\"GaussianNB\",\"AdaBoostClassifier\",\"AdaBoostClassifier\",\"KNeighborsClassifier\",\"RandomForestClassifier\",\"SVC\",\"LogisticRegression\",\"GaussianNB\",\"AdaBoostClassifier\",\"AdaBoostClassifier\",\"KNeighborsClassifier\",\"RandomForestClassifier\",\"SVC\",\"LogisticRegression\",\"GaussianNB\",\"AdaBoostClassifier\",\"AdaBoostClassifier\",\"KNeighborsClassifier\",\"RandomForestClassifier\",\"SVC\",\"LogisticRegression\",\"GaussianNB\",\"AdaBoostClassifier\",\"AdaBoostClassifier\",\"KNeighborsClassifier\",\"RandomForestClassifier\",\"SVC\",\"LogisticRegression\",\"GaussianNB\",\"AdaBoostClassifier\",\"AdaBoostClassifier\"],\"y\":[0.898832992646422,0.9129236992584956,0.9314311340296636,0.6077231938504339,0.5165016338134119,0.9127016527188234,0.856544642761263,0.8840168171123984,0.883327016819438,0.9286865851115828,0.5792796954368638,0.5086737291838459,0.9029225047637917,0.8545251326673172,0.9057469535098605,0.9074141552890832,0.9379530370101257,0.5982540848150243,0.5320373537450251,0.9098751019766432,0.8352687044211211,0.8897631080025407,0.8960731461637765,0.930553319595462,0.571354084970113,0.4956154311832194,0.8982689052204786,0.8455769403733326,0.8738052730979815,0.8987145809327096,0.9275858584471617,0.5947925358825225,0.5126420699280391,0.9063000691269618,0.8348276794471049,0.9043976276097947,0.9007246387373617,0.9218930128816184,0.6018837141928475,0.5377641525466328,0.9020669545512526,0.8432638354996929,0.9098033893962206,0.8936269850576818,0.930984403599414,0.5975563602278543,0.5297091741439515,0.899170223688235,0.8523375770979842,0.8610823606721604,0.9028553812507957,0.9282273328789361,0.5783103038916596,0.5130018187411196,0.9045377185769944,0.8459100540782851,0.8812646316119513,0.8897023391516604,0.9163195627947043,0.5808126809543159,0.49810512426769404,0.8871633602252066,0.8576109788257084,0.8763133221186685,0.887605337647427,0.9196242640909709,0.6020166716760204,0.4950378073579694,0.8933931656236508,0.8281096355632619],\"type\":\"box\"},{\"marker\":{\"color\":\"#FF851B\"},\"name\":\"recall\",\"x\":[\"KNeighborsClassifier\",\"RandomForestClassifier\",\"SVC\",\"LogisticRegression\",\"GaussianNB\",\"AdaBoostClassifier\",\"AdaBoostClassifier\",\"KNeighborsClassifier\",\"RandomForestClassifier\",\"SVC\",\"LogisticRegression\",\"GaussianNB\",\"AdaBoostClassifier\",\"AdaBoostClassifier\",\"KNeighborsClassifier\",\"RandomForestClassifier\",\"SVC\",\"LogisticRegression\",\"GaussianNB\",\"AdaBoostClassifier\",\"AdaBoostClassifier\",\"KNeighborsClassifier\",\"RandomForestClassifier\",\"SVC\",\"LogisticRegression\",\"GaussianNB\",\"AdaBoostClassifier\",\"AdaBoostClassifier\",\"KNeighborsClassifier\",\"RandomForestClassifier\",\"SVC\",\"LogisticRegression\",\"GaussianNB\",\"AdaBoostClassifier\",\"AdaBoostClassifier\",\"KNeighborsClassifier\",\"RandomForestClassifier\",\"SVC\",\"LogisticRegression\",\"GaussianNB\",\"AdaBoostClassifier\",\"AdaBoostClassifier\",\"KNeighborsClassifier\",\"RandomForestClassifier\",\"SVC\",\"LogisticRegression\",\"GaussianNB\",\"AdaBoostClassifier\",\"AdaBoostClassifier\",\"KNeighborsClassifier\",\"RandomForestClassifier\",\"SVC\",\"LogisticRegression\",\"GaussianNB\",\"AdaBoostClassifier\",\"AdaBoostClassifier\",\"KNeighborsClassifier\",\"RandomForestClassifier\",\"SVC\",\"LogisticRegression\",\"GaussianNB\",\"AdaBoostClassifier\",\"AdaBoostClassifier\",\"KNeighborsClassifier\",\"RandomForestClassifier\",\"SVC\",\"LogisticRegression\",\"GaussianNB\",\"AdaBoostClassifier\",\"AdaBoostClassifier\"],\"y\":[0.8935926773455377,0.9084668192219679,0.931350114416476,0.5961098398169337,0.4977116704805492,0.9096109839816934,0.8421052631578947,0.8764302059496567,0.879862700228833,0.9290617848970252,0.5778032036613272,0.4816933638443936,0.8981693363844394,0.8443935926773455,0.9037800687285223,0.9014891179839634,0.9381443298969072,0.5933562428407789,0.5005727376861397,0.9072164948453608,0.8178694158075601,0.8831615120274914,0.8923253150057274,0.9289805269186713,0.5761741122565864,0.4822451317296678,0.8946162657502864,0.8327605956471936,0.8648339060710195,0.8923253150057274,0.9266895761741123,0.5910652920962199,0.4845360824742268,0.9026345933562429,0.8201603665521191,0.9003436426116839,0.8969072164948454,0.9198167239404352,0.5979381443298969,0.5200458190148912,0.8991981672394044,0.8281786941580757,0.9003436426116839,0.8911798396334479,0.9301260022909508,0.5945017182130584,0.5085910652920962,0.8957617411225659,0.8465063001145475,0.854524627720504,0.8957617411225659,0.9278350515463918,0.5715922107674685,0.4856815578465063,0.8991981672394044,0.8361970217640321,0.8717067583046965,0.8854524627720504,0.9152348224513173,0.586483390607102,0.47766323024054985,0.8820160366552119,0.8407789232531501,0.8671248568155785,0.8820160366552119,0.9186712485681557,0.6048109965635738,0.47193585337915234,0.8900343642611683,0.8121420389461627],\"type\":\"box\"},{\"marker\":{\"color\":\"#33cc33\"},\"name\":\"f1\",\"x\":[\"KNeighborsClassifier\",\"RandomForestClassifier\",\"SVC\",\"LogisticRegression\",\"GaussianNB\",\"AdaBoostClassifier\",\"AdaBoostClassifier\",\"KNeighborsClassifier\",\"RandomForestClassifier\",\"SVC\",\"LogisticRegression\",\"GaussianNB\",\"AdaBoostClassifier\",\"AdaBoostClassifier\",\"KNeighborsClassifier\",\"RandomForestClassifier\",\"SVC\",\"LogisticRegression\",\"GaussianNB\",\"AdaBoostClassifier\",\"AdaBoostClassifier\",\"KNeighborsClassifier\",\"RandomForestClassifier\",\"SVC\",\"LogisticRegression\",\"GaussianNB\",\"AdaBoostClassifier\",\"AdaBoostClassifier\",\"KNeighborsClassifier\",\"RandomForestClassifier\",\"SVC\",\"LogisticRegression\",\"GaussianNB\",\"AdaBoostClassifier\",\"AdaBoostClassifier\",\"KNeighborsClassifier\",\"RandomForestClassifier\",\"SVC\",\"LogisticRegression\",\"GaussianNB\",\"AdaBoostClassifier\",\"AdaBoostClassifier\",\"KNeighborsClassifier\",\"RandomForestClassifier\",\"SVC\",\"LogisticRegression\",\"GaussianNB\",\"AdaBoostClassifier\",\"AdaBoostClassifier\",\"KNeighborsClassifier\",\"RandomForestClassifier\",\"SVC\",\"LogisticRegression\",\"GaussianNB\",\"AdaBoostClassifier\",\"AdaBoostClassifier\",\"KNeighborsClassifier\",\"RandomForestClassifier\",\"SVC\",\"LogisticRegression\",\"GaussianNB\",\"AdaBoostClassifier\",\"AdaBoostClassifier\",\"KNeighborsClassifier\",\"RandomForestClassifier\",\"SVC\",\"LogisticRegression\",\"GaussianNB\",\"AdaBoostClassifier\",\"AdaBoostClassifier\"],\"y\":[0.8932467597950069,0.9088309041723606,0.9309924375054769,0.5885930591149476,0.49851353602176834,0.9096058276806596,0.8441006536893035,0.8751241419119066,0.8785224148018589,0.9280781769961571,0.5739722904851947,0.4821899829903671,0.8977794998053831,0.8460278455666324,0.9034756376551653,0.9015773099786392,0.9379329783952502,0.5868828342447415,0.505734423173019,0.9069270646869898,0.82152342063137,0.8813193387108117,0.8918796795223493,0.9293356986617192,0.5686572548408303,0.48373929634277624,0.8940524656712426,0.8348144071074216,0.8648125572309643,0.8924712546875235,0.926630821209726,0.5864836541512402,0.4862178124156816,0.9025787566966631,0.8240506675784048,0.8998605335184844,0.8967525740535889,0.9200414712680547,0.592326196881781,0.5202106217844873,0.898669067630234,0.8314187973170437,0.9012341451088275,0.8906618410486613,0.9301438917994398,0.5896667770067102,0.5063679518488383,0.8955808722128145,0.8469252066596572,0.8536447997738078,0.8961168429059164,0.9271012614999862,0.5646233791797552,0.48410302805922795,0.8994690877045064,0.838040759757667,0.8724109964678212,0.8852794360238173,0.9147838306362147,0.5758125332613017,0.4742397482098859,0.8818904165537035,0.843724230018682,0.8672249989054387,0.8821911588644401,0.9176251552150735,0.5981123232795451,0.4662570103377142,0.889834598823839,0.8140689515594965],\"type\":\"box\"},{\"marker\":{\"color\":\"#0066ff\"},\"name\":\"time\",\"x\":[\"KNeighborsClassifier\",\"RandomForestClassifier\",\"SVC\",\"LogisticRegression\",\"GaussianNB\",\"AdaBoostClassifier\",\"AdaBoostClassifier\",\"KNeighborsClassifier\",\"RandomForestClassifier\",\"SVC\",\"LogisticRegression\",\"GaussianNB\",\"AdaBoostClassifier\",\"AdaBoostClassifier\",\"KNeighborsClassifier\",\"RandomForestClassifier\",\"SVC\",\"LogisticRegression\",\"GaussianNB\",\"AdaBoostClassifier\",\"AdaBoostClassifier\",\"KNeighborsClassifier\",\"RandomForestClassifier\",\"SVC\",\"LogisticRegression\",\"GaussianNB\",\"AdaBoostClassifier\",\"AdaBoostClassifier\",\"KNeighborsClassifier\",\"RandomForestClassifier\",\"SVC\",\"LogisticRegression\",\"GaussianNB\",\"AdaBoostClassifier\",\"AdaBoostClassifier\",\"KNeighborsClassifier\",\"RandomForestClassifier\",\"SVC\",\"LogisticRegression\",\"GaussianNB\",\"AdaBoostClassifier\",\"AdaBoostClassifier\",\"KNeighborsClassifier\",\"RandomForestClassifier\",\"SVC\",\"LogisticRegression\",\"GaussianNB\",\"AdaBoostClassifier\",\"AdaBoostClassifier\",\"KNeighborsClassifier\",\"RandomForestClassifier\",\"SVC\",\"LogisticRegression\",\"GaussianNB\",\"AdaBoostClassifier\",\"AdaBoostClassifier\",\"KNeighborsClassifier\",\"RandomForestClassifier\",\"SVC\",\"LogisticRegression\",\"GaussianNB\",\"AdaBoostClassifier\",\"AdaBoostClassifier\",\"KNeighborsClassifier\",\"RandomForestClassifier\",\"SVC\",\"LogisticRegression\",\"GaussianNB\",\"AdaBoostClassifier\",\"AdaBoostClassifier\"],\"y\":[0.015223000000332831,4.605985000000146,2.189155999999457,8.897530000000188,0.04025499999988824,4.311491000000387,4.6050020000002405,0.006147000000055414,3.4513050000005023,2.2947360000007393,7.106786000000284,0.058803000000807515,4.256502999999611,5.179752000000008,0.007013999999799125,3.0783599999995204,1.6156209999999191,4.304305999999997,0.0408000000006723,3.559815000000526,3.669127000000117,0.0028280000005906913,3.0478699999994205,1.6085739999998623,4.522637999999461,0.032282999999551976,3.5137889999996332,3.4636280000004263,0.0034059999998135027,3.1683579999998983,1.6100710000000618,4.6208120000001145,0.03307000000040716,3.2948000000005777,3.0190880000000107,0.002695000000130676,3.0643630000004123,1.7317979999997988,4.5960039999999935,0.03394000000025699,3.368123000000196,3.4328230000000985,0.003297000000202388,2.8592790000002424,1.5660950000001321,4.5075529999994615,0.03214699999989534,4.505678999999873,4.9598449999994045,0.004507999999987078,3.5621460000002116,2.103348000000551,6.867995999999948,0.04860499999995227,4.139057000000321,4.453317000000425,0.003673999999591615,3.4934199999997873,2.0852590000004056,6.818711000000803,0.045076999999764666,4.083700000000135,4.414236999999957,0.003982999999607273,3.5038839999997435,2.0638580000004367,6.953059999999823,0.060327000000143016,4.426190000000133,4.769460999999865],\"type\":\"box\"}],                        {\"template\":{\"data\":{\"bar\":[{\"error_x\":{\"color\":\"#2a3f5f\"},\"error_y\":{\"color\":\"#2a3f5f\"},\"marker\":{\"line\":{\"color\":\"#E5ECF6\",\"width\":0.5},\"pattern\":{\"fillmode\":\"overlay\",\"size\":10,\"solidity\":0.2}},\"type\":\"bar\"}],\"barpolar\":[{\"marker\":{\"line\":{\"color\":\"#E5ECF6\",\"width\":0.5},\"pattern\":{\"fillmode\":\"overlay\",\"size\":10,\"solidity\":0.2}},\"type\":\"barpolar\"}],\"carpet\":[{\"aaxis\":{\"endlinecolor\":\"#2a3f5f\",\"gridcolor\":\"white\",\"linecolor\":\"white\",\"minorgridcolor\":\"white\",\"startlinecolor\":\"#2a3f5f\"},\"baxis\":{\"endlinecolor\":\"#2a3f5f\",\"gridcolor\":\"white\",\"linecolor\":\"white\",\"minorgridcolor\":\"white\",\"startlinecolor\":\"#2a3f5f\"},\"type\":\"carpet\"}],\"choropleth\":[{\"colorbar\":{\"outlinewidth\":0,\"ticks\":\"\"},\"type\":\"choropleth\"}],\"contour\":[{\"colorbar\":{\"outlinewidth\":0,\"ticks\":\"\"},\"colorscale\":[[0.0,\"#0d0887\"],[0.1111111111111111,\"#46039f\"],[0.2222222222222222,\"#7201a8\"],[0.3333333333333333,\"#9c179e\"],[0.4444444444444444,\"#bd3786\"],[0.5555555555555556,\"#d8576b\"],[0.6666666666666666,\"#ed7953\"],[0.7777777777777778,\"#fb9f3a\"],[0.8888888888888888,\"#fdca26\"],[1.0,\"#f0f921\"]],\"type\":\"contour\"}],\"contourcarpet\":[{\"colorbar\":{\"outlinewidth\":0,\"ticks\":\"\"},\"type\":\"contourcarpet\"}],\"heatmap\":[{\"colorbar\":{\"outlinewidth\":0,\"ticks\":\"\"},\"colorscale\":[[0.0,\"#0d0887\"],[0.1111111111111111,\"#46039f\"],[0.2222222222222222,\"#7201a8\"],[0.3333333333333333,\"#9c179e\"],[0.4444444444444444,\"#bd3786\"],[0.5555555555555556,\"#d8576b\"],[0.6666666666666666,\"#ed7953\"],[0.7777777777777778,\"#fb9f3a\"],[0.8888888888888888,\"#fdca26\"],[1.0,\"#f0f921\"]],\"type\":\"heatmap\"}],\"heatmapgl\":[{\"colorbar\":{\"outlinewidth\":0,\"ticks\":\"\"},\"colorscale\":[[0.0,\"#0d0887\"],[0.1111111111111111,\"#46039f\"],[0.2222222222222222,\"#7201a8\"],[0.3333333333333333,\"#9c179e\"],[0.4444444444444444,\"#bd3786\"],[0.5555555555555556,\"#d8576b\"],[0.6666666666666666,\"#ed7953\"],[0.7777777777777778,\"#fb9f3a\"],[0.8888888888888888,\"#fdca26\"],[1.0,\"#f0f921\"]],\"type\":\"heatmapgl\"}],\"histogram\":[{\"marker\":{\"pattern\":{\"fillmode\":\"overlay\",\"size\":10,\"solidity\":0.2}},\"type\":\"histogram\"}],\"histogram2d\":[{\"colorbar\":{\"outlinewidth\":0,\"ticks\":\"\"},\"colorscale\":[[0.0,\"#0d0887\"],[0.1111111111111111,\"#46039f\"],[0.2222222222222222,\"#7201a8\"],[0.3333333333333333,\"#9c179e\"],[0.4444444444444444,\"#bd3786\"],[0.5555555555555556,\"#d8576b\"],[0.6666666666666666,\"#ed7953\"],[0.7777777777777778,\"#fb9f3a\"],[0.8888888888888888,\"#fdca26\"],[1.0,\"#f0f921\"]],\"type\":\"histogram2d\"}],\"histogram2dcontour\":[{\"colorbar\":{\"outlinewidth\":0,\"ticks\":\"\"},\"colorscale\":[[0.0,\"#0d0887\"],[0.1111111111111111,\"#46039f\"],[0.2222222222222222,\"#7201a8\"],[0.3333333333333333,\"#9c179e\"],[0.4444444444444444,\"#bd3786\"],[0.5555555555555556,\"#d8576b\"],[0.6666666666666666,\"#ed7953\"],[0.7777777777777778,\"#fb9f3a\"],[0.8888888888888888,\"#fdca26\"],[1.0,\"#f0f921\"]],\"type\":\"histogram2dcontour\"}],\"mesh3d\":[{\"colorbar\":{\"outlinewidth\":0,\"ticks\":\"\"},\"type\":\"mesh3d\"}],\"parcoords\":[{\"line\":{\"colorbar\":{\"outlinewidth\":0,\"ticks\":\"\"}},\"type\":\"parcoords\"}],\"pie\":[{\"automargin\":true,\"type\":\"pie\"}],\"scatter\":[{\"marker\":{\"colorbar\":{\"outlinewidth\":0,\"ticks\":\"\"}},\"type\":\"scatter\"}],\"scatter3d\":[{\"line\":{\"colorbar\":{\"outlinewidth\":0,\"ticks\":\"\"}},\"marker\":{\"colorbar\":{\"outlinewidth\":0,\"ticks\":\"\"}},\"type\":\"scatter3d\"}],\"scattercarpet\":[{\"marker\":{\"colorbar\":{\"outlinewidth\":0,\"ticks\":\"\"}},\"type\":\"scattercarpet\"}],\"scattergeo\":[{\"marker\":{\"colorbar\":{\"outlinewidth\":0,\"ticks\":\"\"}},\"type\":\"scattergeo\"}],\"scattergl\":[{\"marker\":{\"colorbar\":{\"outlinewidth\":0,\"ticks\":\"\"}},\"type\":\"scattergl\"}],\"scattermapbox\":[{\"marker\":{\"colorbar\":{\"outlinewidth\":0,\"ticks\":\"\"}},\"type\":\"scattermapbox\"}],\"scatterpolar\":[{\"marker\":{\"colorbar\":{\"outlinewidth\":0,\"ticks\":\"\"}},\"type\":\"scatterpolar\"}],\"scatterpolargl\":[{\"marker\":{\"colorbar\":{\"outlinewidth\":0,\"ticks\":\"\"}},\"type\":\"scatterpolargl\"}],\"scatterternary\":[{\"marker\":{\"colorbar\":{\"outlinewidth\":0,\"ticks\":\"\"}},\"type\":\"scatterternary\"}],\"surface\":[{\"colorbar\":{\"outlinewidth\":0,\"ticks\":\"\"},\"colorscale\":[[0.0,\"#0d0887\"],[0.1111111111111111,\"#46039f\"],[0.2222222222222222,\"#7201a8\"],[0.3333333333333333,\"#9c179e\"],[0.4444444444444444,\"#bd3786\"],[0.5555555555555556,\"#d8576b\"],[0.6666666666666666,\"#ed7953\"],[0.7777777777777778,\"#fb9f3a\"],[0.8888888888888888,\"#fdca26\"],[1.0,\"#f0f921\"]],\"type\":\"surface\"}],\"table\":[{\"cells\":{\"fill\":{\"color\":\"#EBF0F8\"},\"line\":{\"color\":\"white\"}},\"header\":{\"fill\":{\"color\":\"#C8D4E3\"},\"line\":{\"color\":\"white\"}},\"type\":\"table\"}]},\"layout\":{\"annotationdefaults\":{\"arrowcolor\":\"#2a3f5f\",\"arrowhead\":0,\"arrowwidth\":1},\"autotypenumbers\":\"strict\",\"coloraxis\":{\"colorbar\":{\"outlinewidth\":0,\"ticks\":\"\"}},\"colorscale\":{\"diverging\":[[0,\"#8e0152\"],[0.1,\"#c51b7d\"],[0.2,\"#de77ae\"],[0.3,\"#f1b6da\"],[0.4,\"#fde0ef\"],[0.5,\"#f7f7f7\"],[0.6,\"#e6f5d0\"],[0.7,\"#b8e186\"],[0.8,\"#7fbc41\"],[0.9,\"#4d9221\"],[1,\"#276419\"]],\"sequential\":[[0.0,\"#0d0887\"],[0.1111111111111111,\"#46039f\"],[0.2222222222222222,\"#7201a8\"],[0.3333333333333333,\"#9c179e\"],[0.4444444444444444,\"#bd3786\"],[0.5555555555555556,\"#d8576b\"],[0.6666666666666666,\"#ed7953\"],[0.7777777777777778,\"#fb9f3a\"],[0.8888888888888888,\"#fdca26\"],[1.0,\"#f0f921\"]],\"sequentialminus\":[[0.0,\"#0d0887\"],[0.1111111111111111,\"#46039f\"],[0.2222222222222222,\"#7201a8\"],[0.3333333333333333,\"#9c179e\"],[0.4444444444444444,\"#bd3786\"],[0.5555555555555556,\"#d8576b\"],[0.6666666666666666,\"#ed7953\"],[0.7777777777777778,\"#fb9f3a\"],[0.8888888888888888,\"#fdca26\"],[1.0,\"#f0f921\"]]},\"colorway\":[\"#636efa\",\"#EF553B\",\"#00cc96\",\"#ab63fa\",\"#FFA15A\",\"#19d3f3\",\"#FF6692\",\"#B6E880\",\"#FF97FF\",\"#FECB52\"],\"font\":{\"color\":\"#2a3f5f\"},\"geo\":{\"bgcolor\":\"white\",\"lakecolor\":\"white\",\"landcolor\":\"#E5ECF6\",\"showlakes\":true,\"showland\":true,\"subunitcolor\":\"white\"},\"hoverlabel\":{\"align\":\"left\"},\"hovermode\":\"closest\",\"mapbox\":{\"style\":\"light\"},\"paper_bgcolor\":\"white\",\"plot_bgcolor\":\"#E5ECF6\",\"polar\":{\"angularaxis\":{\"gridcolor\":\"white\",\"linecolor\":\"white\",\"ticks\":\"\"},\"bgcolor\":\"#E5ECF6\",\"radialaxis\":{\"gridcolor\":\"white\",\"linecolor\":\"white\",\"ticks\":\"\"}},\"scene\":{\"xaxis\":{\"backgroundcolor\":\"#E5ECF6\",\"gridcolor\":\"white\",\"gridwidth\":2,\"linecolor\":\"white\",\"showbackground\":true,\"ticks\":\"\",\"zerolinecolor\":\"white\"},\"yaxis\":{\"backgroundcolor\":\"#E5ECF6\",\"gridcolor\":\"white\",\"gridwidth\":2,\"linecolor\":\"white\",\"showbackground\":true,\"ticks\":\"\",\"zerolinecolor\":\"white\"},\"zaxis\":{\"backgroundcolor\":\"#E5ECF6\",\"gridcolor\":\"white\",\"gridwidth\":2,\"linecolor\":\"white\",\"showbackground\":true,\"ticks\":\"\",\"zerolinecolor\":\"white\"}},\"shapedefaults\":{\"line\":{\"color\":\"#2a3f5f\"}},\"ternary\":{\"aaxis\":{\"gridcolor\":\"white\",\"linecolor\":\"white\",\"ticks\":\"\"},\"baxis\":{\"gridcolor\":\"white\",\"linecolor\":\"white\",\"ticks\":\"\"},\"bgcolor\":\"#E5ECF6\",\"caxis\":{\"gridcolor\":\"white\",\"linecolor\":\"white\",\"ticks\":\"\"}},\"title\":{\"x\":0.05},\"xaxis\":{\"automargin\":true,\"gridcolor\":\"white\",\"linecolor\":\"white\",\"ticks\":\"\",\"title\":{\"standoff\":15},\"zerolinecolor\":\"white\",\"zerolinewidth\":2},\"yaxis\":{\"automargin\":true,\"gridcolor\":\"white\",\"linecolor\":\"white\",\"ticks\":\"\",\"title\":{\"standoff\":15},\"zerolinecolor\":\"white\",\"zerolinewidth\":2}}},\"yaxis\":{\"title\":{\"text\":\"score\"}},\"boxmode\":\"group\"},                        {\"responsive\": true}                    ).then(function(){\n                            \nvar gd = document.getElementById('63fa7116-8ee8-43f1-bce4-a24868e29b11');\nvar x = new MutationObserver(function (mutations, observer) {{\n        var display = window.getComputedStyle(gd).display;\n        if (!display || display === 'none') {{\n            console.log([gd, 'removed!']);\n            Plotly.purge(gd);\n            observer.disconnect();\n        }}\n}});\n\n// Listen for the removal of the full notebook cells\nvar notebookContainer = gd.closest('#notebook-container');\nif (notebookContainer) {{\n    x.observe(notebookContainer, {childList: true});\n}}\n\n// Listen for the clearing of the current output cell\nvar outputEl = gd.closest('.output');\nif (outputEl) {{\n    x.observe(outputEl, {childList: true});\n}}\n\n                        })                };                });            </script>        </div>"
     },
     "metadata": {},
     "output_type": "display_data"
    },
    {
     "ename": "ValueError",
     "evalue": "\nImage export using the \"kaleido\" engine requires the kaleido package,\nwhich can be installed using pip:\n    $ pip install -U kaleido\n",
     "output_type": "error",
     "traceback": [
      "\u001B[0;31m---------------------------------------------------------------------------\u001B[0m",
      "\u001B[0;31mValueError\u001B[0m                                Traceback (most recent call last)",
      "Input \u001B[0;32mIn [73]\u001B[0m, in \u001B[0;36m<cell line: 103>\u001B[0;34m()\u001B[0m\n\u001B[1;32m     97\u001B[0m fig\u001B[38;5;241m.\u001B[39mupdate_layout(\n\u001B[1;32m     98\u001B[0m     yaxis_title\u001B[38;5;241m=\u001B[39m\u001B[38;5;124m'\u001B[39m\u001B[38;5;124mscore\u001B[39m\u001B[38;5;124m'\u001B[39m,\n\u001B[1;32m     99\u001B[0m     boxmode\u001B[38;5;241m=\u001B[39m\u001B[38;5;124m'\u001B[39m\u001B[38;5;124mgroup\u001B[39m\u001B[38;5;124m'\u001B[39m\n\u001B[1;32m    100\u001B[0m )\n\u001B[1;32m    102\u001B[0m fig\u001B[38;5;241m.\u001B[39mshow()\n\u001B[0;32m--> 103\u001B[0m \u001B[43mfig\u001B[49m\u001B[38;5;241;43m.\u001B[39;49m\u001B[43mwrite_image\u001B[49m\u001B[43m(\u001B[49m\u001B[38;5;124;43m'\u001B[39;49m\u001B[38;5;124;43mmovies/results.png\u001B[39;49m\u001B[38;5;124;43m'\u001B[39;49m\u001B[43m)\u001B[49m\n\u001B[1;32m    105\u001B[0m df \u001B[38;5;241m=\u001B[39m df\u001B[38;5;241m.\u001B[39msort_values(by\u001B[38;5;241m=\u001B[39m[\u001B[38;5;124m'\u001B[39m\u001B[38;5;124mclassifier\u001B[39m\u001B[38;5;124m'\u001B[39m])\n\u001B[1;32m    106\u001B[0m df\u001B[38;5;241m.\u001B[39mto_csv(\u001B[38;5;124m'\u001B[39m\u001B[38;5;124mmovies/raw_results.csv\u001B[39m\u001B[38;5;124m'\u001B[39m, float_format\u001B[38;5;241m=\u001B[39m\u001B[38;5;124m'\u001B[39m\u001B[38;5;132;01m%.3f\u001B[39;00m\u001B[38;5;124m'\u001B[39m, index\u001B[38;5;241m=\u001B[39m\u001B[38;5;28;01mFalse\u001B[39;00m)\n",
      "File \u001B[0;32m~/opt/anaconda3/lib/python3.9/site-packages/plotly/basedatatypes.py:3829\u001B[0m, in \u001B[0;36mBaseFigure.write_image\u001B[0;34m(self, *args, **kwargs)\u001B[0m\n\u001B[1;32m   3769\u001B[0m \u001B[38;5;124;03m\"\"\"\u001B[39;00m\n\u001B[1;32m   3770\u001B[0m \u001B[38;5;124;03mConvert a figure to a static image and write it to a file or writeable\u001B[39;00m\n\u001B[1;32m   3771\u001B[0m \u001B[38;5;124;03mobject\u001B[39;00m\n\u001B[0;32m   (...)\u001B[0m\n\u001B[1;32m   3825\u001B[0m \u001B[38;5;124;03mNone\u001B[39;00m\n\u001B[1;32m   3826\u001B[0m \u001B[38;5;124;03m\"\"\"\u001B[39;00m\n\u001B[1;32m   3827\u001B[0m \u001B[38;5;28;01mimport\u001B[39;00m \u001B[38;5;21;01mplotly\u001B[39;00m\u001B[38;5;21;01m.\u001B[39;00m\u001B[38;5;21;01mio\u001B[39;00m \u001B[38;5;28;01mas\u001B[39;00m \u001B[38;5;21;01mpio\u001B[39;00m\n\u001B[0;32m-> 3829\u001B[0m \u001B[38;5;28;01mreturn\u001B[39;00m \u001B[43mpio\u001B[49m\u001B[38;5;241;43m.\u001B[39;49m\u001B[43mwrite_image\u001B[49m\u001B[43m(\u001B[49m\u001B[38;5;28;43mself\u001B[39;49m\u001B[43m,\u001B[49m\u001B[43m \u001B[49m\u001B[38;5;241;43m*\u001B[39;49m\u001B[43margs\u001B[49m\u001B[43m,\u001B[49m\u001B[43m \u001B[49m\u001B[38;5;241;43m*\u001B[39;49m\u001B[38;5;241;43m*\u001B[39;49m\u001B[43mkwargs\u001B[49m\u001B[43m)\u001B[49m\n",
      "File \u001B[0;32m~/opt/anaconda3/lib/python3.9/site-packages/plotly/io/_kaleido.py:268\u001B[0m, in \u001B[0;36mwrite_image\u001B[0;34m(fig, file, format, scale, width, height, validate, engine)\u001B[0m\n\u001B[1;32m    252\u001B[0m             \u001B[38;5;28;01mraise\u001B[39;00m \u001B[38;5;167;01mValueError\u001B[39;00m(\n\u001B[1;32m    253\u001B[0m                 \u001B[38;5;124;03m\"\"\"\u001B[39;00m\n\u001B[1;32m    254\u001B[0m \u001B[38;5;124;03mCannot infer image type from output path '{file}'.\u001B[39;00m\n\u001B[0;32m   (...)\u001B[0m\n\u001B[1;32m    262\u001B[0m                 )\n\u001B[1;32m    263\u001B[0m             )\n\u001B[1;32m    265\u001B[0m     \u001B[38;5;66;03m# Request image\u001B[39;00m\n\u001B[1;32m    266\u001B[0m     \u001B[38;5;66;03m# -------------\u001B[39;00m\n\u001B[1;32m    267\u001B[0m     \u001B[38;5;66;03m# Do this first so we don't create a file if image conversion fails\u001B[39;00m\n\u001B[0;32m--> 268\u001B[0m     img_data \u001B[38;5;241m=\u001B[39m \u001B[43mto_image\u001B[49m\u001B[43m(\u001B[49m\n\u001B[1;32m    269\u001B[0m \u001B[43m        \u001B[49m\u001B[43mfig\u001B[49m\u001B[43m,\u001B[49m\n\u001B[1;32m    270\u001B[0m \u001B[43m        \u001B[49m\u001B[38;5;28;43mformat\u001B[39;49m\u001B[38;5;241;43m=\u001B[39;49m\u001B[38;5;28;43mformat\u001B[39;49m\u001B[43m,\u001B[49m\n\u001B[1;32m    271\u001B[0m \u001B[43m        \u001B[49m\u001B[43mscale\u001B[49m\u001B[38;5;241;43m=\u001B[39;49m\u001B[43mscale\u001B[49m\u001B[43m,\u001B[49m\n\u001B[1;32m    272\u001B[0m \u001B[43m        \u001B[49m\u001B[43mwidth\u001B[49m\u001B[38;5;241;43m=\u001B[39;49m\u001B[43mwidth\u001B[49m\u001B[43m,\u001B[49m\n\u001B[1;32m    273\u001B[0m \u001B[43m        \u001B[49m\u001B[43mheight\u001B[49m\u001B[38;5;241;43m=\u001B[39;49m\u001B[43mheight\u001B[49m\u001B[43m,\u001B[49m\n\u001B[1;32m    274\u001B[0m \u001B[43m        \u001B[49m\u001B[43mvalidate\u001B[49m\u001B[38;5;241;43m=\u001B[39;49m\u001B[43mvalidate\u001B[49m\u001B[43m,\u001B[49m\n\u001B[1;32m    275\u001B[0m \u001B[43m        \u001B[49m\u001B[43mengine\u001B[49m\u001B[38;5;241;43m=\u001B[39;49m\u001B[43mengine\u001B[49m\u001B[43m,\u001B[49m\n\u001B[1;32m    276\u001B[0m \u001B[43m    \u001B[49m\u001B[43m)\u001B[49m\n\u001B[1;32m    278\u001B[0m     \u001B[38;5;66;03m# Open file\u001B[39;00m\n\u001B[1;32m    279\u001B[0m     \u001B[38;5;66;03m# ---------\u001B[39;00m\n\u001B[1;32m    280\u001B[0m     \u001B[38;5;28;01mif\u001B[39;00m path \u001B[38;5;129;01mis\u001B[39;00m \u001B[38;5;28;01mNone\u001B[39;00m:\n\u001B[1;32m    281\u001B[0m         \u001B[38;5;66;03m# We previously failed to make sense of `file` as a pathlib object.\u001B[39;00m\n\u001B[1;32m    282\u001B[0m         \u001B[38;5;66;03m# Attempt to write to `file` as an open file descriptor.\u001B[39;00m\n",
      "File \u001B[0;32m~/opt/anaconda3/lib/python3.9/site-packages/plotly/io/_kaleido.py:134\u001B[0m, in \u001B[0;36mto_image\u001B[0;34m(fig, format, width, height, scale, validate, engine)\u001B[0m\n\u001B[1;32m    132\u001B[0m     \u001B[38;5;66;03m# Raise informative error message if Kaleido is not installed\u001B[39;00m\n\u001B[1;32m    133\u001B[0m     \u001B[38;5;28;01mif\u001B[39;00m scope \u001B[38;5;129;01mis\u001B[39;00m \u001B[38;5;28;01mNone\u001B[39;00m:\n\u001B[0;32m--> 134\u001B[0m         \u001B[38;5;28;01mraise\u001B[39;00m \u001B[38;5;167;01mValueError\u001B[39;00m(\n\u001B[1;32m    135\u001B[0m             \u001B[38;5;124;03m\"\"\"\u001B[39;00m\n\u001B[1;32m    136\u001B[0m \u001B[38;5;124;03mImage export using the \"kaleido\" engine requires the kaleido package,\u001B[39;00m\n\u001B[1;32m    137\u001B[0m \u001B[38;5;124;03mwhich can be installed using pip:\u001B[39;00m\n\u001B[1;32m    138\u001B[0m \u001B[38;5;124;03m    $ pip install -U kaleido\u001B[39;00m\n\u001B[1;32m    139\u001B[0m \u001B[38;5;124;03m\"\"\"\u001B[39;00m\n\u001B[1;32m    140\u001B[0m         )\n\u001B[1;32m    142\u001B[0m     \u001B[38;5;66;03m# Validate figure\u001B[39;00m\n\u001B[1;32m    143\u001B[0m     \u001B[38;5;66;03m# ---------------\u001B[39;00m\n\u001B[1;32m    144\u001B[0m     fig_dict \u001B[38;5;241m=\u001B[39m validate_coerce_fig_to_dict(fig, validate)\n",
      "\u001B[0;31mValueError\u001B[0m: \nImage export using the \"kaleido\" engine requires the kaleido package,\nwhich can be installed using pip:\n    $ pip install -U kaleido\n"
     ]
    }
   ],
   "source": [
    "#from sklearn.feature_extraction.text import CountVectorizer, TfidfTransformer\n",
    "from sklearn.model_selection import StratifiedKFold\n",
    "from sklearn.metrics import accuracy_score, precision_score, recall_score, f1_score\n",
    "import plotly.graph_objects as go\n",
    "import time\n",
    "\n",
    "SKF = StratifiedKFold(n_splits=10, shuffle=True)\n",
    "for train_index, test_index in SKF.split(X, y):\n",
    "    X_train, X_test = X[train_index], X[test_index]\n",
    "    y_train, y_test = y[train_index], y[test_index]\n",
    "\n",
    "    training_features = X_train\n",
    "    testing_features = X_test\n",
    "\n",
    "    for model in models:\n",
    "        train_features = training_features\n",
    "        test_features = testing_features\n",
    "        model_name = model.__class__.__name__\n",
    "        if(model_name == 'KNeighborsClassifier'):\n",
    "            select_k = SelectKBest(f_classif, k=40)\n",
    "            train_features = select_k.fit_transform(train_features, y_train)\n",
    "            test_features = select_k.transform(test_features)\n",
    "        if(model_name == 'RandomForestClassifier'):\n",
    "            select_k = SelectKBest(f_classif, k=40)\n",
    "            train_features = select_k.fit_transform(train_features, y_train)\n",
    "            test_features = select_k.transform(test_features)\n",
    "        if(model_name == 'SVC'):\n",
    "            select_k = SelectKBest(f_classif, k=40)\n",
    "            train_features = select_k.fit_transform(train_features, y_train)\n",
    "            test_features = select_k.transform(test_features)\n",
    "        if(model_name == 'LogisticRegression'):\n",
    "            select_k = SelectKBest(f_classif, k=40)\n",
    "            train_features = select_k.fit_transform(train_features, y_train)\n",
    "            test_features = select_k.transform(test_features)\n",
    "        if(model_name == 'GaussianNB'):\n",
    "            select_k = SelectKBest(f_classif, k=20)\n",
    "            train_features = select_k.fit_transform(train_features, y_train)\n",
    "            test_features = select_k.transform(test_features)\n",
    "        if(model_name == 'AdaBoostClassifier'):\n",
    "            select_k = SelectKBest(f_classif, k=40)\n",
    "            train_features = select_k.fit_transform(train_features, y_train)\n",
    "            test_features = select_k.transform(test_features)\n",
    "        if(model_name == 'AdaBoostClassifier2'):\n",
    "            select_k = SelectKBest(f_classif, k=40)\n",
    "            train_features = select_k.fit_transform(train_features, y_train)\n",
    "            test_features = select_k.transform(test_features)\n",
    "        start = time.process_time()\n",
    "        clf = model.fit(train_features, y_train)\n",
    "        time_tr = time.process_time() - start\n",
    "        prediction_clf = clf.predict(test_features)\n",
    "        acc = accuracy_score(y_test, prediction_clf)\n",
    "        pre = precision_score(y_test, prediction_clf, average='weighted', zero_division=0)\n",
    "        rec = recall_score(y_test, prediction_clf, average='weighted')\n",
    "        f1 = f1_score(y_test, prediction_clf, average='weighted')\n",
    "        results.append([model_name, acc, pre, rec, f1, time_tr])\n",
    "\n",
    "df = pd.DataFrame(results, columns=cols)\n",
    "\n",
    "fig = go.Figure()\n",
    "x = df['classifier'].to_list()\n",
    "\n",
    "fig.add_trace(go.Box(\n",
    "    y=df['accuracy'].to_list(),\n",
    "    x=x,\n",
    "    name='accuracy',\n",
    "    marker_color='#3D9970'\n",
    "))\n",
    "\n",
    "fig.add_trace(go.Box(\n",
    "    y=df['precision'].to_list(),\n",
    "    x=x,\n",
    "    name='precision',\n",
    "    marker_color='#FF4136'\n",
    "))\n",
    "\n",
    "fig.add_trace(go.Box(\n",
    "    y=df['recall'].to_list(),\n",
    "    x=x,\n",
    "    name='recall',\n",
    "    marker_color='#FF851B'\n",
    "))\n",
    "\n",
    "fig.add_trace(go.Box(\n",
    "    y=df['f1'].to_list(),\n",
    "    x=x,\n",
    "    name='f1',\n",
    "    marker_color='#33cc33'\n",
    "))\n",
    "\n",
    "fig.add_trace(go.Box(\n",
    "    y=df['time'].to_list(),\n",
    "    x=x,\n",
    "    name='time',\n",
    "    marker_color='#0066ff'\n",
    "))\n",
    "\n",
    "fig.update_layout(\n",
    "    yaxis_title='score',\n",
    "    boxmode='group'\n",
    ")\n",
    "\n",
    "fig.show()\n",
    "#fig.write_image('movies/results.png')\n",
    "\n",
    "df = df.sort_values(by=['classifier'])\n",
    "df.to_csv('movies/raw_results.csv', float_format='%.3f', index=False)\n",
    "df = df.groupby('classifier', as_index=False).mean()\n",
    "df.to_csv('movies/results.csv', float_format='%.3f', index=False)"
   ],
   "metadata": {
    "collapsed": false
   }
  },
  {
   "cell_type": "code",
   "execution_count": 80,
   "outputs": [],
   "source": [
    "df = df.sort_values(by=['classifier'])\n",
    "df.to_csv('movies/raw_results.csv', float_format='%.3f', index=False)\n",
    "df = df.groupby('classifier', as_index=False).mean()\n",
    "df.to_csv('movies/results.csv', float_format='%.3f', index=False)"
   ],
   "metadata": {
    "collapsed": false
   }
  },
  {
   "cell_type": "code",
   "execution_count": null,
   "outputs": [],
   "source": [
    "############################"
   ],
   "metadata": {
    "collapsed": false
   }
  },
  {
   "cell_type": "code",
   "execution_count": null,
   "outputs": [],
   "source": [
    "# T-test"
   ],
   "metadata": {
    "collapsed": false
   }
  },
  {
   "cell_type": "code",
   "execution_count": 81,
   "outputs": [
    {
     "name": "stdout",
     "output_type": "stream",
     "text": [
      "T_Test between SVC & RandomForestClassifier : T Value = 9.388084046498426, P Value = 4.543683016006161e-08\n",
      "T_Test between SVC & KNeighborsClassifier : T Value = 7.692881858198347, P Value = 6.37376671661734e-06\n",
      "T_Test between RandomForestClassifier & KNeighborsClassifier : T Value = 1.8457118675496647, P Value = 0.08674417714217879\n"
     ]
    }
   ],
   "source": [
    "from scipy.stats import ttest_ind\n",
    "from scipy.stats import t\n",
    "import pandas as pd\n",
    "\n",
    "df = pd.read_csv(\"movies/raw_results.csv\")\n",
    "t, p = ttest_ind(df.loc[df['classifier'] == 'SVC', 'f1'].to_numpy(),\n",
    "                 df.loc[df['classifier'] == 'RandomForestClassifier', 'f1'].to_numpy(), equal_var=False)\n",
    "print(\"T_Test between SVC & RandomForestClassifier : T Value = {}, P Value = {}\".format(t, p))\n",
    "\n",
    "t, p = ttest_ind(df.loc[df['classifier'] == 'SVC', 'f1'].to_numpy(),\n",
    "                 df.loc[df['classifier'] == 'KNeighborsClassifier', 'f1'].to_numpy(), equal_var=False)\n",
    "print(\"T_Test between SVC & KNeighborsClassifier : T Value = {}, P Value = {}\".format(t, p))\n",
    "\n",
    "t, p = ttest_ind(df.loc[df['classifier'] == 'RandomForestClassifier', 'f1'].to_numpy(),\n",
    "                 df.loc[df['classifier'] == 'KNeighborsClassifier', 'f1'].to_numpy(), equal_var=False)\n",
    "print(\"T_Test between RandomForestClassifier & KNeighborsClassifier : T Value = {}, P Value = {}\".format(t, p))"
   ],
   "metadata": {
    "collapsed": false
   }
  },
  {
   "cell_type": "code",
   "execution_count": null,
   "outputs": [],
   "source": [],
   "metadata": {
    "collapsed": false
   }
  },
  {
   "cell_type": "code",
   "execution_count": null,
   "outputs": [],
   "source": [],
   "metadata": {
    "collapsed": false
   }
  },
  {
   "cell_type": "code",
   "execution_count": null,
   "outputs": [],
   "source": [],
   "metadata": {
    "collapsed": false
   }
  },
  {
   "cell_type": "code",
   "execution_count": null,
   "outputs": [],
   "source": [
    "x_train, x_val, y_train, y_val = train_test_split(x_train,y_train,random_state = 6, test_size=0.15)\n",
    "x_train.shape, y_train.shape"
   ],
   "metadata": {
    "collapsed": false
   }
  },
  {
   "cell_type": "code",
   "execution_count": null,
   "outputs": [],
   "source": [
    "x_test"
   ],
   "metadata": {
    "collapsed": false
   }
  },
  {
   "cell_type": "code",
   "execution_count": null,
   "outputs": [],
   "source": [
    "fig = plt.figure(figsize=(20,6))\n",
    "plt.title(\"No.of data samples for each class in the training dataset\", fontsize= 20)\n",
    "sns.countplot(y=y_train)\n",
    "plt.show()"
   ],
   "metadata": {
    "collapsed": false
   }
  },
  {
   "cell_type": "code",
   "execution_count": null,
   "outputs": [],
   "source": [
    "temp_gun = []\n",
    "temp_car = []\n",
    "\n",
    "for i in range(len(y_train)):\n",
    "\n",
    "    if y_train[i] == 'car_horn':\n",
    "        temp_car.append(x_train[i])\n",
    "\n",
    "    if y_train[i] == 'gun_shot':\n",
    "        temp_gun.append(x_train[i])"
   ],
   "metadata": {
    "collapsed": false
   }
  },
  {
   "cell_type": "code",
   "execution_count": null,
   "outputs": [],
   "source": [
    "target_size = 685\n",
    "\n",
    "t_s_car = target_size - len(temp_car)\n",
    "t_s_gun = target_size - len(temp_gun)\n",
    "\n",
    "print(t_s_car, t_s_gun)"
   ],
   "metadata": {
    "collapsed": false
   }
  },
  {
   "cell_type": "code",
   "execution_count": null,
   "outputs": [],
   "source": [
    "upsample_car = []\n",
    "upsample_gun = []\n",
    "\n",
    "y_up_car = []\n",
    "y_up_gun = []"
   ],
   "metadata": {
    "collapsed": false
   }
  },
  {
   "cell_type": "code",
   "execution_count": null,
   "outputs": [],
   "source": [
    "from numpy import random\n",
    "\n",
    "for i in range(t_s_car):\n",
    "    ind = random.randint(0, len(temp_car)-1)\n",
    "    upsample_car.append(temp_car[ind])\n",
    "    y_up_car.append('car_horn')\n",
    "\n",
    "for i in range(t_s_gun):\n",
    "    ind = random.randint(0, len(temp_gun)-1)\n",
    "    upsample_gun.append(temp_gun[ind])\n",
    "    y_up_gun.append('gun_shot')"
   ],
   "metadata": {
    "collapsed": false
   }
  },
  {
   "cell_type": "code",
   "execution_count": null,
   "outputs": [],
   "source": [
    "x_train = list(x_train)\n",
    "x_train = x_train + upsample_car + upsample_gun\n",
    "print(len(x_train))"
   ],
   "metadata": {
    "collapsed": false
   }
  },
  {
   "cell_type": "code",
   "execution_count": null,
   "outputs": [],
   "source": [
    "y_train = list(y_train)\n",
    "y_train = y_train + y_up_car + y_up_gun\n",
    "print(len(y_train))"
   ],
   "metadata": {
    "collapsed": false
   }
  },
  {
   "cell_type": "code",
   "execution_count": null,
   "outputs": [],
   "source": [
    "x_train = np.array(x_train)\n",
    "y_train = np.array(y_train)\n",
    "\n",
    "print(x_train.shape, y_train.shape)"
   ],
   "metadata": {
    "collapsed": false
   }
  },
  {
   "cell_type": "code",
   "execution_count": null,
   "outputs": [],
   "source": [
    "fig = plt.figure(figsize=(20,6))\n",
    "plt.title(\"No.of data samples for each class in the training dataset after upsampling\", fontsize= 20)\n",
    "sns.countplot(y=y_train)\n",
    "plt.show()"
   ],
   "metadata": {
    "collapsed": false
   }
  },
  {
   "cell_type": "code",
   "execution_count": null,
   "outputs": [],
   "source": [],
   "metadata": {
    "collapsed": false
   }
  },
  {
   "cell_type": "code",
   "execution_count": null,
   "outputs": [],
   "source": [
    "x_train_n = x_train"
   ],
   "metadata": {
    "collapsed": false
   }
  },
  {
   "cell_type": "code",
   "execution_count": null,
   "outputs": [],
   "source": [
    "y_train_n = y_train"
   ],
   "metadata": {
    "collapsed": false
   }
  },
  {
   "cell_type": "code",
   "execution_count": null,
   "outputs": [],
   "source": [
    "print(x_train_n.shape, x_test.shape, y_train_n.shape, y_test.shape)"
   ],
   "metadata": {
    "collapsed": false
   }
  },
  {
   "cell_type": "code",
   "execution_count": null,
   "outputs": [],
   "source": [
    "x_val.shape , y_val.shape"
   ],
   "metadata": {
    "collapsed": false
   }
  },
  {
   "cell_type": "code",
   "execution_count": null,
   "outputs": [],
   "source": [
    "x_train_n1 = list(x_train_n)  + list(x_val)\n",
    "y_train_n1 = list(y_train_n) + list(y_val)\n",
    "\n",
    "x_train_n1 = np.array(x_train_n1)\n",
    "y_train_n1 = np.array(y_train_n1)"
   ],
   "metadata": {
    "collapsed": false
   }
  },
  {
   "cell_type": "code",
   "execution_count": null,
   "outputs": [],
   "source": [
    "x_train_n1.shape , y_train_n1.shape"
   ],
   "metadata": {
    "collapsed": false
   }
  },
  {
   "cell_type": "code",
   "execution_count": null,
   "outputs": [],
   "source": [],
   "metadata": {
    "collapsed": false
   }
  },
  {
   "cell_type": "code",
   "execution_count": null,
   "outputs": [],
   "source": [],
   "metadata": {
    "collapsed": false
   }
  },
  {
   "cell_type": "code",
   "execution_count": null,
   "outputs": [],
   "source": [],
   "metadata": {
    "collapsed": false
   }
  },
  {
   "cell_type": "code",
   "execution_count": null,
   "outputs": [],
   "source": [
    "y_train_pred_ada = clf_ada.predict(x_train_n1)\n",
    "\n",
    "print(\"Training precision score is :-\", precision_score(y_train_n1, y_train_pred_ada, average=\"macro\"))\n",
    "print(\"Training recall is :-\", recall_score(y_train_n1, y_train_pred_ada, average=\"macro\"))"
   ],
   "metadata": {
    "collapsed": false
   }
  },
  {
   "cell_type": "code",
   "execution_count": null,
   "outputs": [],
   "source": [
    "print(\"Testing accuracy is :-\", clf_ada.score(x_test, y_test))\n",
    "\n",
    "y_pred_ada = clf_ada.predict(x_test)\n",
    "print()\n",
    "print(\"Testing precision score is :-\", precision_score(y_test, y_pred_ada, average=\"macro\"))\n",
    "print(\"Testing recall is :-\", recall_score(y_test, y_pred_ada, average=\"macro\"))\n",
    "print()\n",
    "print(\"Testing f1 score is :-\", f1_score(y_test, y_pred_ada, average=\"macro\"))"
   ],
   "metadata": {
    "collapsed": false
   }
  },
  {
   "cell_type": "code",
   "execution_count": null,
   "outputs": [],
   "source": [
    "import seaborn as sns\n",
    "\n",
    "confusion_mat = confusion_matrix(y_test, y_pred_ada)\n",
    "\n",
    "plt.figure(figsize=(10,4))\n",
    "\n",
    "plt.xlabel(\"Predicted class\")\n",
    "plt.ylabel(\"True class\")\n",
    "\n",
    "sns.heatmap(confusion_mat, annot=True, cmap=\"Blues\", xticklabels = ['air_conditioner', 'car_horn', 'children_playing', 'dog_bark', 'drilling', 'enginge_idling', 'gun_shot', 'jackhammer', 'siren','street_music'],\n",
    "           yticklabels=['air_conditioner', 'car_horn', 'children_playing', 'dog_bark', 'drilling', 'enginge_idling', 'gun_shot', 'jackhammer', 'siren','street_music'])\n",
    "plt.show()"
   ],
   "metadata": {
    "collapsed": false
   }
  },
  {
   "cell_type": "code",
   "execution_count": null,
   "outputs": [],
   "source": [
    "print(classification_report(y_test, y_pred_ada))"
   ],
   "metadata": {
    "collapsed": false
   }
  }
 ],
 "metadata": {
  "kernelspec": {
   "display_name": "Python 3",
   "language": "python",
   "name": "python3"
  },
  "language_info": {
   "codemirror_mode": {
    "name": "ipython",
    "version": 2
   },
   "file_extension": ".py",
   "mimetype": "text/x-python",
   "name": "python",
   "nbconvert_exporter": "python",
   "pygments_lexer": "ipython2",
   "version": "2.7.6"
  }
 },
 "nbformat": 4,
 "nbformat_minor": 0
}
